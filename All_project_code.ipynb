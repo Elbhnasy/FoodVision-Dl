{
 "cells": [
  {
   "cell_type": "markdown",
   "metadata": {},
   "source": [
    "# 0. Getting setup"
   ]
  },
  {
   "cell_type": "code",
   "execution_count": 1,
   "metadata": {},
   "outputs": [
    {
     "name": "stdout",
     "output_type": "stream",
     "text": [
      "torch version 1.13.0+cu117\n",
      "torchvision version 0.14.0+cu117\n"
     ]
    }
   ],
   "source": [
    "# For this notebook to run with updated APIs, we need torch 1.12+ and torchvision 0.13+\n",
    "import torch\n",
    "import torchvision\n",
    "print(f\"torch version {torch.__version__}\")\n",
    "print(f\"torchvision version {torchvision.__version__}\")"
   ]
  },
  {
   "cell_type": "code",
   "execution_count": 10,
   "metadata": {},
   "outputs": [],
   "source": [
    "# set seeds\n",
    "def set_seeds(seed:int=42):\n",
    "    \"\"\"\n",
    "    Sets random sets for torch operations.\n",
    "    :param seed: (int, optional) Random seed to set. Defaults to 42.\n",
    "    :return: Nothing to return.\n",
    "    \"\"\"\n",
    "    # Set seed for general torch operations\n",
    "    torch.manual_seed(seed)\n",
    "    # Set the seed for CUDA torch operations\n",
    "    torch.cuda.manual_seed(seed)"
   ]
  },
  {
   "cell_type": "code",
   "execution_count": 11,
   "metadata": {},
   "outputs": [],
   "source": [
    "# Continue with regular imports\n",
    "import matplotlib.pyplot as plt\n",
    "from torch import nn\n",
    "from torchvision import transforms\n",
    "\n",
    "# Try to get torchinfo, install it if it doesn't work\n",
    "try:\n",
    "    from torchinfo import summary\n",
    "except:\n",
    "    print(\"[INFO] Couldn't find torchinfo... installing it.\")\n",
    "    !pip install -q torchinfo\n",
    "    from torchinfo import summary"
   ]
  },
  {
   "cell_type": "code",
   "execution_count": 12,
   "metadata": {},
   "outputs": [
    {
     "data": {
      "text/plain": "'cuda'"
     },
     "execution_count": 12,
     "metadata": {},
     "output_type": "execute_result"
    }
   ],
   "source": [
    "# setup device-agnostic code to make sure our models run on the GPU.\n",
    "device=\"cuda\" if torch.cuda.is_available() else \"cpu\"\n",
    "device"
   ]
  },
  {
   "cell_type": "markdown",
   "metadata": {},
   "source": [
    "# 1. Get data"
   ]
  },
  {
   "cell_type": "code",
   "execution_count": 13,
   "metadata": {},
   "outputs": [],
   "source": [
    "import os\n",
    "import zipfile\n",
    "from pathlib import Path\n",
    "import requests\n",
    "\n",
    "def download_data(source:str,destination: str,remove_source: bool=True)->Path:\n",
    "    \"\"\"\n",
    "    Downloads a zipped dataset from source and unzios to destination.\n",
    "    :param source: A link to a zipped file containing data.\n",
    "    :param destination: A target directory to unzip data to.\n",
    "    :param remove_source: Whether to remove the source after downloading and extracting.\n",
    "    :return:pathlib.Path to downloaded data.\n",
    "    \"\"\"\n",
    "    # Setup path to data folder\n",
    "    data_path=Path(\"data/\")\n",
    "    image_path=data_path / destination\n",
    "    # If the image folder doesn't exist , download it and prepare it ..\n",
    "    if image_path.is_dir():\n",
    "        print(f\"[INFO {image_path} directory exists , skippingg download.\")\n",
    "    else:\n",
    "        print (f\"[INFO] Did not find {image_path} directory , creating one... \")\n",
    "        image_path.mkdir(parents=True,exist_ok=True)\n",
    "\n",
    "        # Downloading Pizza, Steak ,Sushi data\n",
    "        target_file=Path(source).name\n",
    "        with open(data_path / target_file ,\"wb\")as f:\n",
    "            request=requests.get(source)\n",
    "            print(f\"[INFO] Downloading {target_file} from {source}...\")\n",
    "            f.write(request.content)\n",
    "\n",
    "        # Unzip pizza ,steak , sushi Data\n",
    "        with zipfile.ZipFile(data_path / target_file ,\"r\") as zip_ref :\n",
    "            print(f\"[INFO] unzipping {target_file}data..\")\n",
    "            zip_ref.extractall(image_path)\n",
    "\n",
    "        # Remove .Zip file\n",
    "        if remove_source :\n",
    "            os.remove(data_path / target_file)\n",
    "        return image_path"
   ]
  },
  {
   "cell_type": "code",
   "execution_count": 24,
   "metadata": {},
   "outputs": [
    {
     "name": "stdout",
     "output_type": "stream",
     "text": [
      "[INFO data/pizza_steak_sushi_20_percent directory exists , skippingg download.\n"
     ]
    }
   ],
   "source": [
    "# Download pizza, steak, sushi images from GitHub\n",
    "data_20_percent_path = download_data(source=\"https://github.com/mrdbourke/pytorch-deep-learning/raw/main/data/pizza_steak_sushi_20_percent.zip\",destination=\"pizza_steak_sushi_20_percent\")\n",
    "data_20_percent_path"
   ]
  },
  {
   "cell_type": "code",
   "execution_count": 25,
   "metadata": {},
   "outputs": [],
   "source": [
    "# Setup directory paths to train and test images\n",
    "train_dir = r\"/home/fox/AICoding/Food Vision app/data/pizza_steak_sushi_20_percent/train\"\n",
    "test_dir  = r\"/home/fox/AICoding/Food Vision app/data/pizza_steak_sushi_20_percent/test\""
   ]
  },
  {
   "cell_type": "markdown",
   "metadata": {},
   "source": [
    "# 2.0 Creating an EffNetB1 feature extractor"
   ]
  },
  {
   "cell_type": "code",
   "execution_count": 14,
   "metadata": {},
   "outputs": [],
   "source": [
    "def create_effnetb1_model(num_classes:int=3,seed:int=42):\n",
    "    \"\"\"\n",
    "    Creates an EFFicientNetB1 feature extractor model and transforms.\n",
    "    :param num_classes: number of classes in classifier head.\n",
    "                        Defaults to 3.\n",
    "    :param seed: random seed value.\n",
    "                 Defaults to 42.\n",
    "    :return: feature extractor model.\n",
    "         transforms (torchvision.transforms): EffNetB1 image transforms.\n",
    "    \"\"\"\n",
    "    # 1. Setup pretrained EffNetB1 weights\n",
    "    weigts = torchvision.models.EfficientNet_B1_Weights.DEFAULT\n",
    "    # 2. Get EffNetB2 transforms\n",
    "    transforms= weigts.transforms()\n",
    "\n",
    "    # 3. Setup pretrained model\n",
    "    model=torchvision.models.efficientnet_b1(weights= \"DEFAULT\")\n",
    "\n",
    "    # 4. Freeze the base layers in the model (this will freeze all layers to begin with)\n",
    "    for param in model.parameters():\n",
    "        param.requires_grad=False\n",
    "\n",
    "    # 5. Change classifier head with random seed for reproducibility\n",
    "    torch.manual_seed(seed)\n",
    "    model.classifier=nn.Sequential(nn.Dropout(p=0.2,inplace=True),\n",
    "                                   nn.Linear(in_features=1280,out_features=num_classes))\n",
    "    return model,transforms"
   ]
  },
  {
   "cell_type": "code",
   "execution_count": 27,
   "metadata": {},
   "outputs": [],
   "source": [
    "effnetb1,effnetb1_transforms=create_effnetb1_model(num_classes=3,seed=42)"
   ]
  },
  {
   "cell_type": "code",
   "execution_count": 28,
   "metadata": {},
   "outputs": [
    {
     "data": {
      "text/plain": "====================================================================================================================================\nLayer (type (var_name))                                      Input Shape        Output Shape       Param #            Trainable\n====================================================================================================================================\nEfficientNet (EfficientNet)                                  [1, 3, 224, 224]   [1, 3]             --                 Partial\n├─Sequential (features)                                      [1, 3, 224, 224]   [1, 1280, 7, 7]    --                 False\n│    └─Conv2dNormActivation (0)                              [1, 3, 224, 224]   [1, 32, 112, 112]  --                 False\n│    │    └─Conv2d (0)                                       [1, 3, 224, 224]   [1, 32, 112, 112]  (864)              False\n│    │    └─BatchNorm2d (1)                                  [1, 32, 112, 112]  [1, 32, 112, 112]  (64)               False\n│    │    └─SiLU (2)                                         [1, 32, 112, 112]  [1, 32, 112, 112]  --                 --\n│    └─Sequential (1)                                        [1, 32, 112, 112]  [1, 16, 112, 112]  --                 False\n│    │    └─MBConv (0)                                       [1, 32, 112, 112]  [1, 16, 112, 112]  (1,448)            False\n│    │    └─MBConv (1)                                       [1, 16, 112, 112]  [1, 16, 112, 112]  (612)              False\n│    └─Sequential (2)                                        [1, 16, 112, 112]  [1, 24, 56, 56]    --                 False\n│    │    └─MBConv (0)                                       [1, 16, 112, 112]  [1, 24, 56, 56]    (6,004)            False\n│    │    └─MBConv (1)                                       [1, 24, 56, 56]    [1, 24, 56, 56]    (10,710)           False\n│    │    └─MBConv (2)                                       [1, 24, 56, 56]    [1, 24, 56, 56]    (10,710)           False\n│    └─Sequential (3)                                        [1, 24, 56, 56]    [1, 40, 28, 28]    --                 False\n│    │    └─MBConv (0)                                       [1, 24, 56, 56]    [1, 40, 28, 28]    (15,350)           False\n│    │    └─MBConv (1)                                       [1, 40, 28, 28]    [1, 40, 28, 28]    (31,290)           False\n│    │    └─MBConv (2)                                       [1, 40, 28, 28]    [1, 40, 28, 28]    (31,290)           False\n│    └─Sequential (4)                                        [1, 40, 28, 28]    [1, 80, 14, 14]    --                 False\n│    │    └─MBConv (0)                                       [1, 40, 28, 28]    [1, 80, 14, 14]    (37,130)           False\n│    │    └─MBConv (1)                                       [1, 80, 14, 14]    [1, 80, 14, 14]    (102,900)          False\n│    │    └─MBConv (2)                                       [1, 80, 14, 14]    [1, 80, 14, 14]    (102,900)          False\n│    │    └─MBConv (3)                                       [1, 80, 14, 14]    [1, 80, 14, 14]    (102,900)          False\n│    └─Sequential (5)                                        [1, 80, 14, 14]    [1, 112, 14, 14]   --                 False\n│    │    └─MBConv (0)                                       [1, 80, 14, 14]    [1, 112, 14, 14]   (126,004)          False\n│    │    └─MBConv (1)                                       [1, 112, 14, 14]   [1, 112, 14, 14]   (208,572)          False\n│    │    └─MBConv (2)                                       [1, 112, 14, 14]   [1, 112, 14, 14]   (208,572)          False\n│    │    └─MBConv (3)                                       [1, 112, 14, 14]   [1, 112, 14, 14]   (208,572)          False\n│    └─Sequential (6)                                        [1, 112, 14, 14]   [1, 192, 7, 7]     --                 False\n│    │    └─MBConv (0)                                       [1, 112, 14, 14]   [1, 192, 7, 7]     (262,492)          False\n│    │    └─MBConv (1)                                       [1, 192, 7, 7]     [1, 192, 7, 7]     (587,952)          False\n│    │    └─MBConv (2)                                       [1, 192, 7, 7]     [1, 192, 7, 7]     (587,952)          False\n│    │    └─MBConv (3)                                       [1, 192, 7, 7]     [1, 192, 7, 7]     (587,952)          False\n│    │    └─MBConv (4)                                       [1, 192, 7, 7]     [1, 192, 7, 7]     (587,952)          False\n│    └─Sequential (7)                                        [1, 192, 7, 7]     [1, 320, 7, 7]     --                 False\n│    │    └─MBConv (0)                                       [1, 192, 7, 7]     [1, 320, 7, 7]     (717,232)          False\n│    │    └─MBConv (1)                                       [1, 320, 7, 7]     [1, 320, 7, 7]     (1,563,600)        False\n│    └─Conv2dNormActivation (8)                              [1, 320, 7, 7]     [1, 1280, 7, 7]    --                 False\n│    │    └─Conv2d (0)                                       [1, 320, 7, 7]     [1, 1280, 7, 7]    (409,600)          False\n│    │    └─BatchNorm2d (1)                                  [1, 1280, 7, 7]    [1, 1280, 7, 7]    (2,560)            False\n│    │    └─SiLU (2)                                         [1, 1280, 7, 7]    [1, 1280, 7, 7]    --                 --\n├─AdaptiveAvgPool2d (avgpool)                                [1, 1280, 7, 7]    [1, 1280, 1, 1]    --                 --\n├─Sequential (classifier)                                    [1, 1280]          [1, 3]             --                 True\n│    └─Dropout (0)                                           [1, 1280]          [1, 1280]          --                 --\n│    └─Linear (1)                                            [1, 1280]          [1, 3]             3,843              True\n====================================================================================================================================\nTotal params: 6,517,027\nTrainable params: 3,843\nNon-trainable params: 6,513,184\nTotal mult-adds (M): 568.45\n====================================================================================================================================\nInput size (MB): 0.60\nForward/backward pass size (MB): 149.56\nParams size (MB): 26.07\nEstimated Total Size (MB): 176.23\n===================================================================================================================================="
     },
     "execution_count": 28,
     "metadata": {},
     "output_type": "execute_result"
    }
   ],
   "source": [
    "from  torchinfo import summary\n",
    "# Print EffNetB2 model summary\n",
    "summary(effnetb1,input_size=(1,3,224,224),\n",
    "        col_names=[\"input_size\", \"output_size\", \"num_params\", \"trainable\"],\n",
    "        col_width=18,row_settings=[\"var_names\"])"
   ]
  },
  {
   "cell_type": "markdown",
   "metadata": {},
   "source": [
    "# 2.1 Creating DataLoaders for EffNetB1"
   ]
  },
  {
   "cell_type": "code",
   "execution_count": 15,
   "metadata": {},
   "outputs": [],
   "source": [
    "import  os\n",
    "from torchvision import  transforms,datasets\n",
    "from  torch .utils.data import  DataLoader\n",
    "\n",
    "NUM_WORKERS =os.cpu_count()\n",
    "def create_dataloaders(train_dir:str,test_dir:str,transform:transforms.Compose,\n",
    "                       batch_size:int,num_workers:int=NUM_WORKERS):\n",
    "    \"\"\"\n",
    "    Creates training and testing DataLoaders.\n",
    "    Takes in a training directory and testing directory path and turns them into PyTorch Datasets and then into PyTorch DataLoaders.\n",
    "\n",
    "    :param train_dir: Path to training directory.\n",
    "    :param test_dir: Path to testing directory.\n",
    "    :param transform: torchvision transforms to perform on training and testing data.\n",
    "    :param batch_size: Number of samples per batch in each of the DataLoaders.\n",
    "    :param num_workers: An integer for number of workers per DataLoader.\n",
    "    :return:\n",
    "           A tuple of (train_dataloader, test_dataloader, class_names).\n",
    "           Where class_names is a list of the target classes.\n",
    "    Example usage:\n",
    "      train_dataloader, test_dataloader, class_names = \\\n",
    "        = create_dataloaders(train_dir=path/to/train_dir,\n",
    "                             test_dir=path/to/test_dir,\n",
    "                             transform=some_transform,\n",
    "                             batch_size=32,\n",
    "                             num_workers=4)\n",
    "    \"\"\"\n",
    "    # Use ImageFolder to create dataset\n",
    "    train_data=datasets.ImageFolder(train_dir,transform=transform)\n",
    "    test_data=datasets.ImageFolder(test_dir,transform=transform)\n",
    "\n",
    "    # Get class names\n",
    "    class_names=train_data.classes\n",
    "\n",
    "    # Turn Images into data loaders\n",
    "    train_dataloader=DataLoader(train_data,batch_size=batch_size,shuffle=True,\n",
    "                                num_workers=num_workers,pin_memory=True)\n",
    "    test_dataloader=DataLoader(test_data,batch_size=batch_size,shuffle=True,\n",
    "                               num_workers=num_workers,pin_memory=True)\n",
    "    return train_dataloader,test_dataloader,class_names"
   ]
  },
  {
   "cell_type": "code",
   "execution_count": 30,
   "metadata": {},
   "outputs": [],
   "source": [
    "train_dataloader_effnetb1,test_dataloader_effnetb1,class_names=create_dataloaders(train_dir=train_dir,test_dir=test_dir,\n",
    "                                                                                  transform=effnetb1_transforms,batch_size=32)"
   ]
  },
  {
   "cell_type": "markdown",
   "metadata": {},
   "source": [
    "# 2.2 Training EffNetB1 feature extractor"
   ]
  },
  {
   "cell_type": "code",
   "execution_count": 16,
   "metadata": {},
   "outputs": [],
   "source": [
    "from typing import Dict,List,Tuple\n",
    "def train_step(model:torch.nn.Module,\n",
    "               dataloader:torch.utils.data .DataLoader,\n",
    "               loss_fn:torch.nn.Module,optimizer:torch.optim.Optimizer,\n",
    "               device:torch.device)->Tuple[float,float]:\n",
    "    \"\"\"\n",
    "    Trains a PyTorch model for a single epoch.\n",
    "    Turns a target PyTorch model to training mode and then runs through all of the required training steps\n",
    "    (forward pass, loss calculation, optimizer step).\n",
    "    :param model: A PyTorch model to be trained.\n",
    "    :param dataloader: A DataLoader instance for the model to be trained on.\n",
    "    :param loss_fn: A PyTorch loss function to minimize.\n",
    "    :param optimizer: A PyTorch optimizer to help minimize the loss function.\n",
    "    :param device: A target device to compute on (e.g. \"cuda\" or \"cpu\").\n",
    "    :return:\n",
    "     A tuple of training loss and training accuracy metrics.\n",
    "     In the form (train_loss, train_accuracy).\n",
    "     For example: (0.1112, 0.8743)\n",
    "    \"\"\"\n",
    "    # Put model in train mode\n",
    "    model.train()\n",
    "\n",
    "    # Setup train loss and train accuracy values\n",
    "    train_loss, train_acc =0, 0\n",
    "\n",
    "    # Loop through data loader , data batches\n",
    "    for batch ,(X,y) in enumerate(dataloader):\n",
    "        # send data to target device\n",
    "        X, y=X.to(device) , y.to(device)\n",
    "\n",
    "        # 1. Forward pass\n",
    "        y_pred = model(X)\n",
    "        # 2. Calculate and accumulate loss\n",
    "        loss=loss_fn(y_pred,y)\n",
    "        train_loss += loss.item()\n",
    "        # 3. Optimizer zero grade\n",
    "        optimizer.zero_grad()\n",
    "        # 4. Loss backward\n",
    "        loss.backward()\n",
    "        # 5. Optimizer step\n",
    "        optimizer.step()\n",
    "\n",
    "        # Calculate and accumulate accuracy across all batches\n",
    "        y_pred_class = torch.argmax(torch.softmax(y_pred,dim=1),dim=1)\n",
    "        train_acc += ((y_pred_class == y).sum().item())/len(y_pred)\n",
    "\n",
    "    # Adjust metrics to get average loss and accuracy per batch\n",
    "    train_loss = train_loss/ len(dataloader)\n",
    "    train_acc = train_acc / len(dataloader)\n",
    "    return train_loss ,train_acc\n",
    "\n",
    "def test_step(model: torch.nn.Module,\n",
    "              dataloader: torch.utils.data.DataLoader,\n",
    "              loss_fn: torch.nn.Module,\n",
    "              device: torch.device) -> Tuple[float, float]:\n",
    "    \"\"\"\n",
    "    Tests a PyTorch model for a single epoch.\n",
    "    Turns a target PyTorch model to \"eval\" mode and then performs\n",
    "    a forward pass on a testing dataset.\n",
    "    :param model: A PyTorch model to be tested.\n",
    "    :param dataloader: A DataLoader instance for the model to be tested on.\n",
    "    :param loss_fn: A PyTorch loss function to calculate loss on the test data.\n",
    "    :param device: A target device to compute on (e.g. \"cuda\" or \"cpu\").\n",
    "    :return:\n",
    "    A tuple of testing loss and testing accuracy metrics.\n",
    "    In the form (test_loss, test_accuracy).\n",
    "    For example: (0.0223, 0.8985)\n",
    "    \"\"\"\n",
    "    # Put model in eval mode\n",
    "    model.eval()\n",
    "\n",
    "    #  Setup test loss and test accuracy values\n",
    "    test_loss ,test_acc= 0,0\n",
    "\n",
    "    # Turn on inference context manager\n",
    "    with torch.inference_mode():\n",
    "        for batch , (X,y) in enumerate(dataloader):\n",
    "            #  Send data to target device\n",
    "            X, y= X.to(device) , y.to(device)\n",
    "\n",
    "            # 1. Forward pass\n",
    "            test_pred_logits= model(X)\n",
    "\n",
    "            # 2. Calculate and accumulate loss\n",
    "            loss =loss_fn(test_pred_logits,y)\n",
    "            test_loss += loss.item()\n",
    "\n",
    "            # Calculate and accumulate accuracy\n",
    "            test_pred_labels = test_pred_logits.argmax(dim=1)\n",
    "            test_acc += ((test_pred_labels == y).sum().item())/len(test_pred_labels)\n",
    "    # Adjust metrics to get average loss and accuracy per batch\n",
    "    test_loss =test_loss/ len(dataloader)\n",
    "    test_acc = test_acc / len(dataloader)\n",
    "    return  test_loss , test_acc\n",
    "\n",
    "def train (model: torch.nn.Module,\n",
    "           train_dataloader: torch.utils.data.DataLoader,\n",
    "           test_dataloader: torch.utils.data.DataLoader,\n",
    "           optimizer: torch.optim.Optimizer,\n",
    "           loss_fn: torch.nn.Module,\n",
    "           epochs: int,\n",
    "           device: torch.device) -> Dict[str, List]:\n",
    "    \"\"\"\n",
    "    Trains and tests a PyTorch model.\n",
    "    Passes a target PyTorch models through train_step() and test_step() functions for a number of epochs, training and testing the model in the same epoch loop.\n",
    "    Calculates, prints and stores evaluation metrics throughout.\n",
    "\n",
    "    :param model: A PyTorch model to be trained and tested.\n",
    "    :param train_dataloader: A DataLoader instance for the model to be trained on.\n",
    "    :param test_dataloader: A DataLoader instance for the model to be tested on.\n",
    "    :param optimizer: A PyTorch optimizer to help minimize the loss function.\n",
    "    :param loss_fn: A PyTorch loss function to calculate loss on both datasets.\n",
    "    :param epochs: An integer indicating how many epochs to train for.\n",
    "    :param device: A target device to compute on (e.g. \"cuda\" or \"cpu\").\n",
    "    :return:\n",
    "    A dictionary of training and testing loss as well as training and testing accuracy metrics.\n",
    "    Each metric has a value in a list for each epoch.\n",
    "    In the form: {train_loss: [...],\n",
    "                  train_acc: [...],\n",
    "              t   test_loss: [...],\n",
    "                  test_acc: [...]}\n",
    "    For example if training for epochs=2:\n",
    "             {train_loss: [2.0616, 1.0537],\n",
    "              train_acc: [0.3945, 0.3945],\n",
    "              test_loss: [1.2641, 1.5706],\n",
    "              test_acc: [0.3400, 0.2973]}\n",
    "    \"\"\"\n",
    "    # Create empty results dictionary\n",
    "    results = {\"train_loss\":[],\n",
    "               \"train_acc\":[],\n",
    "               \"test_loss\":[],\n",
    "               \"test_acc\":[]}\n",
    "\n",
    "    # Loop through training and testing steps for a number of epochs\n",
    "    for epoch in range(epochs):\n",
    "        train_loss , train_acc = train_step(model=model,\n",
    "                                            dataloader=train_dataloader,\n",
    "                                            loss_fn=loss_fn,\n",
    "                                            optimizer=optimizer,\n",
    "                                            device=device)\n",
    "        test_loss, test_acc = test_step(model=model,\n",
    "                                        dataloader=test_dataloader,\n",
    "                                        loss_fn=loss_fn,\n",
    "                                        device=device)\n",
    "\n",
    "        # Print out what's happening\n",
    "        print(f\"Epoch: {epoch+1} | \"\n",
    "              f\"train_loss: {train_loss:.4f} | \"\n",
    "              f\"train_acc: {train_acc:.4f} | \"\n",
    "              f\"test_loss: {test_loss:.4f} | \"\n",
    "              f\"test_acc: {test_acc:.4f}\")\n",
    "\n",
    "        # Update results dictionary\n",
    "        results[\"train_loss\"].append(train_loss)\n",
    "        results[\"train_acc\"].append(train_acc)\n",
    "        results[\"test_loss\"].append(test_loss)\n",
    "        results[\"test_acc\"].append(test_acc)\n",
    "\n",
    "    # Return the filled results at the end of the epochs\n",
    "    return results"
   ]
  },
  {
   "cell_type": "code",
   "execution_count": 32,
   "outputs": [
    {
     "name": "stdout",
     "output_type": "stream",
     "text": [
      "Epoch: 1 | train_loss: 1.0049 | train_acc: 0.6333 | test_loss: 0.8496 | test_acc: 0.9102\n",
      "Epoch: 2 | train_loss: 0.8312 | train_acc: 0.8521 | test_loss: 0.7013 | test_acc: 0.9222\n",
      "Epoch: 3 | train_loss: 0.6546 | train_acc: 0.8979 | test_loss: 0.6163 | test_acc: 0.9227\n",
      "Epoch: 4 | train_loss: 0.5758 | train_acc: 0.9167 | test_loss: 0.5406 | test_acc: 0.9284\n",
      "Epoch: 5 | train_loss: 0.5117 | train_acc: 0.9167 | test_loss: 0.4758 | test_acc: 0.9506\n",
      "Epoch: 6 | train_loss: 0.4659 | train_acc: 0.8833 | test_loss: 0.4300 | test_acc: 0.9381\n",
      "Epoch: 7 | train_loss: 0.4239 | train_acc: 0.9104 | test_loss: 0.3929 | test_acc: 0.9347\n",
      "Epoch: 8 | train_loss: 0.4031 | train_acc: 0.9333 | test_loss: 0.3603 | test_acc: 0.9563\n",
      "Epoch: 9 | train_loss: 0.3614 | train_acc: 0.9271 | test_loss: 0.3619 | test_acc: 0.9568\n",
      "Epoch: 10 | train_loss: 0.3302 | train_acc: 0.9458 | test_loss: 0.3312 | test_acc: 0.9625\n",
      "Epoch: 11 | train_loss: 0.3348 | train_acc: 0.9313 | test_loss: 0.3187 | test_acc: 0.9597\n",
      "Epoch: 12 | train_loss: 0.3459 | train_acc: 0.9187 | test_loss: 0.2999 | test_acc: 0.9443\n",
      "Epoch: 13 | train_loss: 0.2757 | train_acc: 0.9458 | test_loss: 0.2833 | test_acc: 0.9563\n",
      "Epoch: 14 | train_loss: 0.2898 | train_acc: 0.9583 | test_loss: 0.2885 | test_acc: 0.9534\n",
      "Epoch: 15 | train_loss: 0.2861 | train_acc: 0.9167 | test_loss: 0.2771 | test_acc: 0.9500\n",
      "Epoch: 16 | train_loss: 0.2500 | train_acc: 0.9542 | test_loss: 0.2546 | test_acc: 0.9688\n",
      "Epoch: 17 | train_loss: 0.2940 | train_acc: 0.9083 | test_loss: 0.2517 | test_acc: 0.9688\n",
      "Epoch: 18 | train_loss: 0.3256 | train_acc: 0.9146 | test_loss: 0.2686 | test_acc: 0.9597\n",
      "Epoch: 19 | train_loss: 0.2717 | train_acc: 0.9417 | test_loss: 0.2545 | test_acc: 0.9597\n",
      "Epoch: 20 | train_loss: 0.2963 | train_acc: 0.9125 | test_loss: 0.2518 | test_acc: 0.9534\n",
      "Epoch: 21 | train_loss: 0.2406 | train_acc: 0.9229 | test_loss: 0.2432 | test_acc: 0.9625\n",
      "Epoch: 22 | train_loss: 0.2483 | train_acc: 0.9333 | test_loss: 0.2203 | test_acc: 0.9688\n",
      "Epoch: 23 | train_loss: 0.1932 | train_acc: 0.9708 | test_loss: 0.2219 | test_acc: 0.9597\n",
      "Epoch: 24 | train_loss: 0.2626 | train_acc: 0.9229 | test_loss: 0.2281 | test_acc: 0.9625\n",
      "Epoch: 25 | train_loss: 0.2750 | train_acc: 0.9313 | test_loss: 0.2242 | test_acc: 0.9625\n"
     ]
    }
   ],
   "source": [
    "# setup optimizer\n",
    "optimizer=torch.optim.Adam(params=effnetb1.parameters(),lr=1e-3)\n",
    "\n",
    "# setup loss function\n",
    "loss_fn=torch.nn.CrossEntropyLoss()\n",
    "\n",
    "# Set seeds for reproducibility and train the model\n",
    "set_seeds()\n",
    "\n",
    "effnetb1_results= train(model=effnetb1,\n",
    "                        train_dataloader=train_dataloader_effnetb1,\n",
    "                        test_dataloader=test_dataloader_effnetb1,\n",
    "                        epochs=25,\n",
    "                        optimizer=optimizer,\n",
    "                        loss_fn=loss_fn,\n",
    "                        device=device)"
   ],
   "metadata": {
    "collapsed": false
   }
  },
  {
   "cell_type": "markdown",
   "source": [
    "# 2.3 Inspecting EffNetB1 loss curves"
   ],
   "metadata": {
    "collapsed": false
   },
   "execution_count": 186
  },
  {
   "cell_type": "code",
   "execution_count": 17,
   "outputs": [],
   "source": [
    "def plot_loss_curves(results):\n",
    "    \"\"\"\n",
    "    Plots training curves of a results dictionary.\n",
    "    :param results: dictionary containing list of values, e.g.\n",
    "                    {\"train_loss\": [...],\n",
    "                     \"train_acc\": [...],\n",
    "                     \"test_loss\": [...],\n",
    "                     \"test_acc\": [...]}\n",
    "    :return: loss curves\n",
    "    \"\"\"\n",
    "\n",
    "    loss = results[\"train_loss\"]\n",
    "    test_loss = results[\"test_loss\"]\n",
    "\n",
    "    accuracy = results[\"train_acc\"]\n",
    "    test_accuracy = results[\"test_acc\"]\n",
    "\n",
    "    epochs = range(len(results[\"train_loss\"]))\n",
    "\n",
    "    plt.figure(figsize=(15, 7))\n",
    "\n",
    "    # Plot loss\n",
    "    plt.subplot(1, 2, 1)\n",
    "    plt.plot(epochs, loss, label=\"train_loss\")\n",
    "    plt.plot(epochs, test_loss, label=\"test_loss\")\n",
    "    plt.title(\"Loss\")\n",
    "    plt.xlabel(\"Epochs\")\n",
    "    plt.legend()\n",
    "\n",
    "    # Plot accuracy\n",
    "    plt.subplot(1, 2, 2)\n",
    "    plt.plot(epochs, accuracy, label=\"train_accuracy\")\n",
    "    plt.plot(epochs, test_accuracy, label=\"test_accuracy\")\n",
    "    plt.title(\"Accuracy\")\n",
    "    plt.xlabel(\"Epochs\")\n",
    "    plt.legend()"
   ],
   "metadata": {
    "collapsed": false
   }
  },
  {
   "cell_type": "code",
   "execution_count": 34,
   "outputs": [
    {
     "data": {
      "text/plain": "<Figure size 1500x700 with 2 Axes>",
      "image/png": "[encoded data removed]"
     },
     "metadata": {},
     "output_type": "display_data"
    }
   ],
   "source": [
    "plot_loss_curves(effnetb1_results)"
   ],
   "metadata": {
    "collapsed": false
   }
  },
  {
   "cell_type": "markdown",
   "source": [
    "# 2.4 Saving EffNetB1 feature extractor"
   ],
   "metadata": {
    "collapsed": false
   }
  },
  {
   "cell_type": "code",
   "execution_count": 18,
   "outputs": [],
   "source": [
    "from pathlib import Path\n",
    "def save_model(model:torch.nn.Module,targt_dir:str,model_name:str):\n",
    "    \"\"\"\n",
    "    Saves a PyTorch model to a target directory.\n",
    "    :param model: A target PyTorch model to save.\n",
    "    :param targt_dir: A directory for saving the model to.\n",
    "    :param model_name: A filename for the saved model. Should include either \".pth\" or \".pt\" as the file extension.\n",
    "    :Example usage:\n",
    "          save_model(model=model_0,\n",
    "                     target_dir=\"models\",\n",
    "                     model_name=\"05_going_modular_tingvgg_model.pth\")\n",
    "    \"\"\"\n",
    "    # Create target directory\n",
    "    target_dir_path= Path(targt_dir)\n",
    "    target_dir_path.mkdir(parents=True,exist_ok=True)\n",
    "\n",
    "    # Create model save path\n",
    "    assert model_name.endswith(\".pth\")or model_name.endswith(\".pt\"),\"model_name should end with '.pt' or '.pth'\"\n",
    "    model_save_path = target_dir_path / model_name\n",
    "\n",
    "    # Save model state_dict()\n",
    "    print(f\"[INFO] Saving model to : {model_save_path}\")\n",
    "    torch.save(obj=model.state_dict(),f=model_save_path)"
   ],
   "metadata": {
    "collapsed": false
   }
  },
  {
   "cell_type": "code",
   "execution_count": 36,
   "outputs": [
    {
     "name": "stdout",
     "output_type": "stream",
     "text": [
      "[INFO] Saving model to : models/pretrained_effnetb1_feature_extractor_pizza_steak_sushi_20_percent.pth\n"
     ]
    }
   ],
   "source": [
    "# Save the model\n",
    "save_model(model=effnetb1,targt_dir=\"models\",model_name=\"pretrained_effnetb1_feature_extractor_pizza_steak_sushi_20_percent.pth\")"
   ],
   "metadata": {
    "collapsed": false
   }
  },
  {
   "cell_type": "markdown",
   "source": [
    "# 2.5 Checking the size of EffNetB1 feature extractor"
   ],
   "metadata": {
    "collapsed": false
   }
  },
  {
   "cell_type": "code",
   "execution_count": 37,
   "outputs": [
    {
     "name": "stdout",
     "output_type": "stream",
     "text": [
      "Pretrained EffNetB1 feature extractor model size: 25 MB\n"
     ]
    }
   ],
   "source": [
    "# Get the model size in bytes then convert to megabytes\n",
    "pretrained_effnetb1_model_size = Path(\"models/pretrained_effnetb1_feature_extractor_pizza_steak_sushi_20_percent.pth\").stat().st_size // (1024*1024) # division converts bytes to megabytes (roughly)\n",
    "print(f\"Pretrained EffNetB1 feature extractor model size: {pretrained_effnetb1_model_size} MB\")"
   ],
   "metadata": {
    "collapsed": false
   }
  },
  {
   "cell_type": "markdown",
   "source": [
    "# 2.6 Collecting EffNetB1 feature extractor stats"
   ],
   "metadata": {
    "collapsed": false
   }
  },
  {
   "cell_type": "code",
   "execution_count": 38,
   "outputs": [
    {
     "data": {
      "text/plain": "6517027"
     },
     "execution_count": 38,
     "metadata": {},
     "output_type": "execute_result"
    }
   ],
   "source": [
    "# Count number of parameters in EffNetB1\n",
    "effnetb1_total_params = sum(torch.numel(param) for param in effnetb1.parameters())\n",
    "effnetb1_total_params"
   ],
   "metadata": {
    "collapsed": false
   }
  },
  {
   "cell_type": "code",
   "execution_count": 39,
   "outputs": [
    {
     "data": {
      "text/plain": "{'test_loss': 0.22419896125793456,\n 'test_acc': 0.9625,\n 'number_of_parameters': 6517027,\n 'model_size': 25}"
     },
     "execution_count": 39,
     "metadata": {},
     "output_type": "execute_result"
    }
   ],
   "source": [
    "# Create a dictionary with EffNetB1 statistics\n",
    "effnetb1_stats ={\"test_loss\": effnetb1_results[\"test_loss\"][-1],\n",
    "                 \"test_acc\":effnetb1_results[\"test_acc\"][-1],\n",
    "                 \"number_of_parameters\": effnetb1_total_params,\n",
    "                 \"model_size\": pretrained_effnetb1_model_size}\n",
    "effnetb1_stats"
   ],
   "metadata": {
    "collapsed": false
   }
  },
  {
   "cell_type": "markdown",
   "source": [
    "# 3.0 Creating a ViT feature extractor"
   ],
   "metadata": {
    "collapsed": false
   }
  },
  {
   "cell_type": "code",
   "execution_count": 40,
   "outputs": [],
   "source": [
    "def create_vit_model(num_classes:int=3,\n",
    "                     seed:int=42):\n",
    "    \"\"\"Creates a ViT-B/16 feature extractor model and transforms.\n",
    "\n",
    "    Args:\n",
    "        num_classes (int, optional): number of target classes. Defaults to 3.\n",
    "        seed (int, optional): random seed value for output layer. Defaults to 42.\n",
    "\n",
    "    Returns:\n",
    "        model (torch.nn.Module): ViT-B/16 feature extractor model.\n",
    "        transforms (torchvision.transforms): ViT-B/16 image transforms.\n",
    "    \"\"\"\n",
    "    # Create ViT_B_16 pretrained weights, transforms and model\n",
    "    weights = torchvision.models.ViT_B_16_Weights.DEFAULT\n",
    "    transforms = weights.transforms()\n",
    "    model = torchvision.models.vit_b_16(weights=weights)\n",
    "\n",
    "    # Freeze all layers in model\n",
    "    for param in model.parameters():\n",
    "        param.requires_grad = False\n",
    "\n",
    "    # Change classifier head to suit our needs (this will be trainable)\n",
    "    torch.manual_seed(seed)\n",
    "    model.heads = nn.Sequential(nn.Linear(in_features=768, # keep this the same as original model\n",
    "                                          out_features=num_classes)) # update to reflect target number of classes\n",
    "\n",
    "    return model, transforms"
   ],
   "metadata": {
    "collapsed": false
   }
  },
  {
   "cell_type": "code",
   "execution_count": 41,
   "outputs": [],
   "source": [
    "# Create ViT model and transforms\n",
    "vit, vit_transforms = create_vit_model(num_classes=3,\n",
    "                                       seed=42)"
   ],
   "metadata": {
    "collapsed": false
   }
  },
  {
   "cell_type": "code",
   "execution_count": 42,
   "outputs": [
    {
     "data": {
      "text/plain": "====================================================================================================================================\nLayer (type (var_name))                                      Input Shape        Output Shape       Param #            Trainable\n====================================================================================================================================\nVisionTransformer (VisionTransformer)                        [1, 3, 224, 224]   [1, 3]             768                Partial\n├─Conv2d (conv_proj)                                         [1, 3, 224, 224]   [1, 768, 14, 14]   (590,592)          False\n├─Encoder (encoder)                                          [1, 197, 768]      [1, 197, 768]      151,296            False\n│    └─Dropout (dropout)                                     [1, 197, 768]      [1, 197, 768]      --                 --\n│    └─Sequential (layers)                                   [1, 197, 768]      [1, 197, 768]      --                 False\n│    │    └─EncoderBlock (encoder_layer_0)                   [1, 197, 768]      [1, 197, 768]      (7,087,872)        False\n│    │    └─EncoderBlock (encoder_layer_1)                   [1, 197, 768]      [1, 197, 768]      (7,087,872)        False\n│    │    └─EncoderBlock (encoder_layer_2)                   [1, 197, 768]      [1, 197, 768]      (7,087,872)        False\n│    │    └─EncoderBlock (encoder_layer_3)                   [1, 197, 768]      [1, 197, 768]      (7,087,872)        False\n│    │    └─EncoderBlock (encoder_layer_4)                   [1, 197, 768]      [1, 197, 768]      (7,087,872)        False\n│    │    └─EncoderBlock (encoder_layer_5)                   [1, 197, 768]      [1, 197, 768]      (7,087,872)        False\n│    │    └─EncoderBlock (encoder_layer_6)                   [1, 197, 768]      [1, 197, 768]      (7,087,872)        False\n│    │    └─EncoderBlock (encoder_layer_7)                   [1, 197, 768]      [1, 197, 768]      (7,087,872)        False\n│    │    └─EncoderBlock (encoder_layer_8)                   [1, 197, 768]      [1, 197, 768]      (7,087,872)        False\n│    │    └─EncoderBlock (encoder_layer_9)                   [1, 197, 768]      [1, 197, 768]      (7,087,872)        False\n│    │    └─EncoderBlock (encoder_layer_10)                  [1, 197, 768]      [1, 197, 768]      (7,087,872)        False\n│    │    └─EncoderBlock (encoder_layer_11)                  [1, 197, 768]      [1, 197, 768]      (7,087,872)        False\n│    └─LayerNorm (ln)                                        [1, 197, 768]      [1, 197, 768]      (1,536)            False\n├─Sequential (heads)                                         [1, 768]           [1, 3]             --                 True\n│    └─Linear (0)                                            [1, 768]           [1, 3]             2,307              True\n====================================================================================================================================\nTotal params: 85,800,963\nTrainable params: 2,307\nNon-trainable params: 85,798,656\nTotal mult-adds (M): 172.47\n====================================================================================================================================\nInput size (MB): 0.60\nForward/backward pass size (MB): 104.09\nParams size (MB): 229.20\nEstimated Total Size (MB): 333.89\n===================================================================================================================================="
     },
     "execution_count": 42,
     "metadata": {},
     "output_type": "execute_result"
    }
   ],
   "source": [
    "# Print ViT feature extractor model summary (uncomment for full output)\n",
    "summary(vit,\n",
    "        input_size=(1, 3, 224, 224),\n",
    "        col_names=[\"input_size\", \"output_size\", \"num_params\", \"trainable\"],\n",
    "        col_width=18,\n",
    "        row_settings=[\"var_names\"])"
   ],
   "metadata": {
    "collapsed": false
   }
  },
  {
   "cell_type": "markdown",
   "source": [
    "# 3.1 Create DataLoaders for ViT"
   ],
   "metadata": {
    "collapsed": false
   }
  },
  {
   "cell_type": "code",
   "execution_count": 43,
   "outputs": [],
   "source": [
    "train_dataloader_vit, test_dataloader_vit, class_names = create_dataloaders(train_dir=train_dir,\n",
    "                                                                                       test_dir=test_dir,\n",
    "                                                                                       transform=vit_transforms,\n",
    "                                                                                       batch_size=32)"
   ],
   "metadata": {
    "collapsed": false
   }
  },
  {
   "cell_type": "markdown",
   "source": [
    "# 3.2 Training ViT feature extractor"
   ],
   "metadata": {
    "collapsed": false
   }
  },
  {
   "cell_type": "code",
   "execution_count": 44,
   "outputs": [
    {
     "name": "stdout",
     "output_type": "stream",
     "text": [
      "Epoch: 1 | train_loss: 0.7020 | train_acc: 0.7521 | test_loss: 0.2614 | test_acc: 0.9409\n",
      "Epoch: 2 | train_loss: 0.2197 | train_acc: 0.9437 | test_loss: 0.1492 | test_acc: 0.9688\n",
      "Epoch: 3 | train_loss: 0.1534 | train_acc: 0.9583 | test_loss: 0.1125 | test_acc: 0.9750\n",
      "Epoch: 4 | train_loss: 0.1304 | train_acc: 0.9604 | test_loss: 0.0961 | test_acc: 0.9722\n",
      "Epoch: 5 | train_loss: 0.1079 | train_acc: 0.9688 | test_loss: 0.0821 | test_acc: 0.9784\n",
      "Epoch: 6 | train_loss: 0.0981 | train_acc: 0.9750 | test_loss: 0.0776 | test_acc: 0.9812\n",
      "Epoch: 7 | train_loss: 0.0908 | train_acc: 0.9812 | test_loss: 0.0727 | test_acc: 0.9756\n",
      "Epoch: 8 | train_loss: 0.0729 | train_acc: 0.9854 | test_loss: 0.0645 | test_acc: 0.9875\n",
      "Epoch: 9 | train_loss: 0.0647 | train_acc: 0.9854 | test_loss: 0.0606 | test_acc: 0.9750\n",
      "Epoch: 10 | train_loss: 0.0558 | train_acc: 0.9854 | test_loss: 0.0613 | test_acc: 0.9750\n",
      "Epoch: 11 | train_loss: 0.0490 | train_acc: 0.9958 | test_loss: 0.0649 | test_acc: 0.9722\n",
      "Epoch: 12 | train_loss: 0.0447 | train_acc: 0.9958 | test_loss: 0.0590 | test_acc: 0.9750\n",
      "Epoch: 13 | train_loss: 0.0405 | train_acc: 0.9958 | test_loss: 0.0606 | test_acc: 0.9722\n",
      "Epoch: 14 | train_loss: 0.0401 | train_acc: 0.9958 | test_loss: 0.0598 | test_acc: 0.9722\n",
      "Epoch: 15 | train_loss: 0.0334 | train_acc: 0.9958 | test_loss: 0.0538 | test_acc: 0.9812\n"
     ]
    }
   ],
   "source": [
    "# Setup optimizer\n",
    "optimizer = torch.optim.Adam(params=vit.parameters(),\n",
    "                             lr=1e-3)\n",
    "# Setup loss function\n",
    "loss_fn = torch.nn.CrossEntropyLoss()\n",
    "\n",
    "# Train ViT model with seeds set for reproducibility\n",
    "set_seeds()\n",
    "vit_results =train(model=vit,\n",
    "                           train_dataloader=train_dataloader_vit,\n",
    "                           test_dataloader=test_dataloader_vit,\n",
    "                           epochs=15,\n",
    "                           optimizer=optimizer,\n",
    "                           loss_fn=loss_fn,\n",
    "                           device=device)"
   ],
   "metadata": {
    "collapsed": false
   }
  },
  {
   "cell_type": "markdown",
   "source": [
    "# 3.3 Inspecting ViT loss curves"
   ],
   "metadata": {
    "collapsed": false
   }
  },
  {
   "cell_type": "code",
   "execution_count": 45,
   "outputs": [
    {
     "data": {
      "text/plain": "<Figure size 1500x700 with 2 Axes>",
      "image/png": "[encoded data removed]"
     },
     "metadata": {},
     "output_type": "display_data"
    }
   ],
   "source": [
    "plot_loss_curves(vit_results)"
   ],
   "metadata": {
    "collapsed": false
   }
  },
  {
   "cell_type": "markdown",
   "source": [
    "# 3.4 Saving ViT feature extractor"
   ],
   "metadata": {
    "collapsed": false
   }
  },
  {
   "cell_type": "code",
   "execution_count": 46,
   "outputs": [
    {
     "name": "stdout",
     "output_type": "stream",
     "text": [
      "[INFO] Saving model to : models/pretrained_vit_feature_extractor_pizza_steak_sushi_20_percent.pth\n"
     ]
    }
   ],
   "source": [
    "# save the model\n",
    "save_model(model=vit,targt_dir=\"models\",model_name=\"pretrained_vit_feature_extractor_pizza_steak_sushi_20_percent.pth\")"
   ],
   "metadata": {
    "collapsed": false
   }
  },
  {
   "cell_type": "markdown",
   "source": [
    "# 3.5 Checking the size of ViT feature extractor"
   ],
   "metadata": {
    "collapsed": false
   }
  },
  {
   "cell_type": "code",
   "execution_count": 47,
   "outputs": [
    {
     "name": "stdout",
     "output_type": "stream",
     "text": [
      "Pretrained ViT feature extractor model size: 327 MB\n"
     ]
    }
   ],
   "source": [
    "# Get the model size in bytes then convert to megabytes\n",
    "pretrained_vit_model_size=Path(\"models/pretrained_vit_feature_extractor_pizza_steak_sushi_20_percent.pth\").stat().st_size // (1024*1024)\n",
    "print(f\"Pretrained ViT feature extractor model size: {pretrained_vit_model_size} MB\")"
   ],
   "metadata": {
    "collapsed": false
   }
  },
  {
   "cell_type": "markdown",
   "source": [
    "# 3.6 Collecting ViT feature extractor stats"
   ],
   "metadata": {
    "collapsed": false
   }
  },
  {
   "cell_type": "code",
   "execution_count": 48,
   "outputs": [
    {
     "data": {
      "text/plain": "85800963"
     },
     "execution_count": 48,
     "metadata": {},
     "output_type": "execute_result"
    }
   ],
   "source": [
    "# Count number of parameters in ViT\n",
    "vit_total_params = sum(torch.numel(param) for param in vit.parameters())\n",
    "vit_total_params"
   ],
   "metadata": {
    "collapsed": false
   }
  },
  {
   "cell_type": "code",
   "execution_count": 49,
   "outputs": [
    {
     "data": {
      "text/plain": "{'test_loss': 0.05384576059877873,\n 'test_acc': 0.98125,\n 'number_of_parameters': 85800963,\n 'model_size': 327}"
     },
     "execution_count": 49,
     "metadata": {},
     "output_type": "execute_result"
    }
   ],
   "source": [
    "# Create ViT statistics dictionary\n",
    "vit_stats = {\"test_loss\": vit_results[\"test_loss\"][-1],\n",
    "             \"test_acc\": vit_results[\"test_acc\"][-1],\n",
    "             \"number_of_parameters\": vit_total_params,\n",
    "             \"model_size\": pretrained_vit_model_size}\n",
    "\n",
    "vit_stats"
   ],
   "metadata": {
    "collapsed": false
   }
  },
  {
   "cell_type": "markdown",
   "source": [
    "# 4.0 Making predictions with our trained models and timing them"
   ],
   "metadata": {
    "collapsed": false
   }
  },
  {
   "cell_type": "code",
   "execution_count": 50,
   "outputs": [
    {
     "name": "stdout",
     "output_type": "stream",
     "text": [
      "[INFO] Finding all filepaths ending with '.jpg' in directory: /home/fox/AICoding/Food Vision app/data/pizza_steak_sushi_20_percent/test\n"
     ]
    },
    {
     "data": {
      "text/plain": "[PosixPath('/home/fox/AICoding/Food Vision app/data/pizza_steak_sushi_20_percent/test/pizza/771336.jpg'),\n PosixPath('/home/fox/AICoding/Food Vision app/data/pizza_steak_sushi_20_percent/test/pizza/2782998.jpg'),\n PosixPath('/home/fox/AICoding/Food Vision app/data/pizza_steak_sushi_20_percent/test/pizza/441659.jpg'),\n PosixPath('/home/fox/AICoding/Food Vision app/data/pizza_steak_sushi_20_percent/test/pizza/296426.jpg'),\n PosixPath('/home/fox/AICoding/Food Vision app/data/pizza_steak_sushi_20_percent/test/pizza/2398925.jpg'),\n PosixPath('/home/fox/AICoding/Food Vision app/data/pizza_steak_sushi_20_percent/test/pizza/2901001.jpg'),\n PosixPath('/home/fox/AICoding/Food Vision app/data/pizza_steak_sushi_20_percent/test/pizza/1032754.jpg'),\n PosixPath('/home/fox/AICoding/Food Vision app/data/pizza_steak_sushi_20_percent/test/pizza/2549661.jpg'),\n PosixPath('/home/fox/AICoding/Food Vision app/data/pizza_steak_sushi_20_percent/test/pizza/419962.jpg'),\n PosixPath('/home/fox/AICoding/Food Vision app/data/pizza_steak_sushi_20_percent/test/pizza/648055.jpg'),\n PosixPath('/home/fox/AICoding/Food Vision app/data/pizza_steak_sushi_20_percent/test/pizza/833711.jpg'),\n PosixPath('/home/fox/AICoding/Food Vision app/data/pizza_steak_sushi_20_percent/test/pizza/148765.jpg'),\n PosixPath('/home/fox/AICoding/Food Vision app/data/pizza_steak_sushi_20_percent/test/pizza/61656.jpg'),\n PosixPath('/home/fox/AICoding/Food Vision app/data/pizza_steak_sushi_20_percent/test/pizza/3486640.jpg'),\n PosixPath('/home/fox/AICoding/Food Vision app/data/pizza_steak_sushi_20_percent/test/pizza/3174637.jpg'),\n PosixPath('/home/fox/AICoding/Food Vision app/data/pizza_steak_sushi_20_percent/test/pizza/3785667.jpg'),\n PosixPath('/home/fox/AICoding/Food Vision app/data/pizza_steak_sushi_20_percent/test/pizza/204151.jpg'),\n PosixPath('/home/fox/AICoding/Food Vision app/data/pizza_steak_sushi_20_percent/test/pizza/420409.jpg'),\n PosixPath('/home/fox/AICoding/Food Vision app/data/pizza_steak_sushi_20_percent/test/pizza/788315.jpg'),\n PosixPath('/home/fox/AICoding/Food Vision app/data/pizza_steak_sushi_20_percent/test/pizza/724290.jpg'),\n PosixPath('/home/fox/AICoding/Food Vision app/data/pizza_steak_sushi_20_percent/test/pizza/2582289.jpg'),\n PosixPath('/home/fox/AICoding/Food Vision app/data/pizza_steak_sushi_20_percent/test/pizza/3729167.jpg'),\n PosixPath('/home/fox/AICoding/Food Vision app/data/pizza_steak_sushi_20_percent/test/pizza/416067.jpg'),\n PosixPath('/home/fox/AICoding/Food Vision app/data/pizza_steak_sushi_20_percent/test/pizza/482858.jpg'),\n PosixPath('/home/fox/AICoding/Food Vision app/data/pizza_steak_sushi_20_percent/test/pizza/1067986.jpg'),\n PosixPath('/home/fox/AICoding/Food Vision app/data/pizza_steak_sushi_20_percent/test/pizza/2250611.jpg'),\n PosixPath('/home/fox/AICoding/Food Vision app/data/pizza_steak_sushi_20_percent/test/pizza/3770514.jpg'),\n PosixPath('/home/fox/AICoding/Food Vision app/data/pizza_steak_sushi_20_percent/test/pizza/2997525.jpg'),\n PosixPath('/home/fox/AICoding/Food Vision app/data/pizza_steak_sushi_20_percent/test/pizza/1555015.jpg'),\n PosixPath('/home/fox/AICoding/Food Vision app/data/pizza_steak_sushi_20_percent/test/pizza/2111981.jpg'),\n PosixPath('/home/fox/AICoding/Food Vision app/data/pizza_steak_sushi_20_percent/test/pizza/1687143.jpg'),\n PosixPath('/home/fox/AICoding/Food Vision app/data/pizza_steak_sushi_20_percent/test/pizza/930553.jpg'),\n PosixPath('/home/fox/AICoding/Food Vision app/data/pizza_steak_sushi_20_percent/test/pizza/998005.jpg'),\n PosixPath('/home/fox/AICoding/Food Vision app/data/pizza_steak_sushi_20_percent/test/pizza/476421.jpg'),\n PosixPath('/home/fox/AICoding/Food Vision app/data/pizza_steak_sushi_20_percent/test/pizza/1315645.jpg'),\n PosixPath('/home/fox/AICoding/Food Vision app/data/pizza_steak_sushi_20_percent/test/pizza/3375083.jpg'),\n PosixPath('/home/fox/AICoding/Food Vision app/data/pizza_steak_sushi_20_percent/test/pizza/129666.jpg'),\n PosixPath('/home/fox/AICoding/Food Vision app/data/pizza_steak_sushi_20_percent/test/pizza/796922.jpg'),\n PosixPath('/home/fox/AICoding/Food Vision app/data/pizza_steak_sushi_20_percent/test/pizza/3497151.jpg'),\n PosixPath('/home/fox/AICoding/Food Vision app/data/pizza_steak_sushi_20_percent/test/pizza/3376617.jpg'),\n PosixPath('/home/fox/AICoding/Food Vision app/data/pizza_steak_sushi_20_percent/test/pizza/1001116.jpg'),\n PosixPath('/home/fox/AICoding/Food Vision app/data/pizza_steak_sushi_20_percent/test/pizza/2572488.jpg'),\n PosixPath('/home/fox/AICoding/Food Vision app/data/pizza_steak_sushi_20_percent/test/pizza/44810.jpg'),\n PosixPath('/home/fox/AICoding/Food Vision app/data/pizza_steak_sushi_20_percent/test/pizza/380739.jpg'),\n PosixPath('/home/fox/AICoding/Food Vision app/data/pizza_steak_sushi_20_percent/test/pizza/1618659.jpg'),\n PosixPath('/home/fox/AICoding/Food Vision app/data/pizza_steak_sushi_20_percent/test/pizza/138961.jpg'),\n PosixPath('/home/fox/AICoding/Food Vision app/data/pizza_steak_sushi_20_percent/test/steak/2475366.jpg'),\n PosixPath('/home/fox/AICoding/Food Vision app/data/pizza_steak_sushi_20_percent/test/steak/3553838.jpg'),\n PosixPath('/home/fox/AICoding/Food Vision app/data/pizza_steak_sushi_20_percent/test/steak/66858.jpg'),\n PosixPath('/home/fox/AICoding/Food Vision app/data/pizza_steak_sushi_20_percent/test/steak/3873655.jpg'),\n PosixPath('/home/fox/AICoding/Food Vision app/data/pizza_steak_sushi_20_percent/test/steak/39461.jpg'),\n PosixPath('/home/fox/AICoding/Food Vision app/data/pizza_steak_sushi_20_percent/test/steak/864661.jpg'),\n PosixPath('/home/fox/AICoding/Food Vision app/data/pizza_steak_sushi_20_percent/test/steak/367422.jpg'),\n PosixPath('/home/fox/AICoding/Food Vision app/data/pizza_steak_sushi_20_percent/test/steak/100274.jpg'),\n PosixPath('/home/fox/AICoding/Food Vision app/data/pizza_steak_sushi_20_percent/test/steak/697562.jpg'),\n PosixPath('/home/fox/AICoding/Food Vision app/data/pizza_steak_sushi_20_percent/test/steak/108310.jpg'),\n PosixPath('/home/fox/AICoding/Food Vision app/data/pizza_steak_sushi_20_percent/test/steak/1523026.jpg'),\n PosixPath('/home/fox/AICoding/Food Vision app/data/pizza_steak_sushi_20_percent/test/steak/3100563.jpg'),\n PosixPath('/home/fox/AICoding/Food Vision app/data/pizza_steak_sushi_20_percent/test/steak/552171.jpg'),\n PosixPath('/home/fox/AICoding/Food Vision app/data/pizza_steak_sushi_20_percent/test/steak/1982192.jpg'),\n PosixPath('/home/fox/AICoding/Food Vision app/data/pizza_steak_sushi_20_percent/test/steak/289822.jpg'),\n PosixPath('/home/fox/AICoding/Food Vision app/data/pizza_steak_sushi_20_percent/test/steak/413497.jpg'),\n PosixPath('/home/fox/AICoding/Food Vision app/data/pizza_steak_sushi_20_percent/test/steak/48208.jpg'),\n PosixPath('/home/fox/AICoding/Food Vision app/data/pizza_steak_sushi_20_percent/test/steak/3622237.jpg'),\n PosixPath('/home/fox/AICoding/Food Vision app/data/pizza_steak_sushi_20_percent/test/steak/550687.jpg'),\n PosixPath('/home/fox/AICoding/Food Vision app/data/pizza_steak_sushi_20_percent/test/steak/1335842.jpg'),\n PosixPath('/home/fox/AICoding/Food Vision app/data/pizza_steak_sushi_20_percent/test/steak/2315011.jpg'),\n PosixPath('/home/fox/AICoding/Food Vision app/data/pizza_steak_sushi_20_percent/test/steak/3541033.jpg'),\n PosixPath('/home/fox/AICoding/Food Vision app/data/pizza_steak_sushi_20_percent/test/steak/2756200.jpg'),\n PosixPath('/home/fox/AICoding/Food Vision app/data/pizza_steak_sushi_20_percent/test/steak/831681.jpg'),\n PosixPath('/home/fox/AICoding/Food Vision app/data/pizza_steak_sushi_20_percent/test/steak/1848936.jpg'),\n PosixPath('/home/fox/AICoding/Food Vision app/data/pizza_steak_sushi_20_percent/test/steak/1972463.jpg'),\n PosixPath('/home/fox/AICoding/Food Vision app/data/pizza_steak_sushi_20_percent/test/steak/730464.jpg'),\n PosixPath('/home/fox/AICoding/Food Vision app/data/pizza_steak_sushi_20_percent/test/steak/1902895.jpg'),\n PosixPath('/home/fox/AICoding/Food Vision app/data/pizza_steak_sushi_20_percent/test/steak/3757027.jpg'),\n PosixPath('/home/fox/AICoding/Food Vision app/data/pizza_steak_sushi_20_percent/test/steak/2307638.jpg'),\n PosixPath('/home/fox/AICoding/Food Vision app/data/pizza_steak_sushi_20_percent/test/steak/1655387.jpg'),\n PosixPath('/home/fox/AICoding/Food Vision app/data/pizza_steak_sushi_20_percent/test/steak/219196.jpg'),\n PosixPath('/home/fox/AICoding/Food Vision app/data/pizza_steak_sushi_20_percent/test/steak/2069289.jpg'),\n PosixPath('/home/fox/AICoding/Food Vision app/data/pizza_steak_sushi_20_percent/test/steak/2117351.jpg'),\n PosixPath('/home/fox/AICoding/Food Vision app/data/pizza_steak_sushi_20_percent/test/steak/3479599.jpg'),\n PosixPath('/home/fox/AICoding/Food Vision app/data/pizza_steak_sushi_20_percent/test/steak/670345.jpg'),\n PosixPath('/home/fox/AICoding/Food Vision app/data/pizza_steak_sushi_20_percent/test/steak/476333.jpg'),\n PosixPath('/home/fox/AICoding/Food Vision app/data/pizza_steak_sushi_20_percent/test/steak/86782.jpg'),\n PosixPath('/home/fox/AICoding/Food Vision app/data/pizza_steak_sushi_20_percent/test/steak/1882831.jpg'),\n PosixPath('/home/fox/AICoding/Food Vision app/data/pizza_steak_sushi_20_percent/test/steak/2716791.jpg'),\n PosixPath('/home/fox/AICoding/Food Vision app/data/pizza_steak_sushi_20_percent/test/steak/399377.jpg'),\n PosixPath('/home/fox/AICoding/Food Vision app/data/pizza_steak_sushi_20_percent/test/steak/1285886.jpg'),\n PosixPath('/home/fox/AICoding/Food Vision app/data/pizza_steak_sushi_20_percent/test/steak/1166047.jpg'),\n PosixPath('/home/fox/AICoding/Food Vision app/data/pizza_steak_sushi_20_percent/test/steak/1082384.jpg'),\n PosixPath('/home/fox/AICoding/Food Vision app/data/pizza_steak_sushi_20_percent/test/steak/1482489.jpg'),\n PosixPath('/home/fox/AICoding/Food Vision app/data/pizza_steak_sushi_20_percent/test/steak/2061929.jpg'),\n PosixPath('/home/fox/AICoding/Food Vision app/data/pizza_steak_sushi_20_percent/test/steak/595836.jpg'),\n PosixPath('/home/fox/AICoding/Food Vision app/data/pizza_steak_sushi_20_percent/test/steak/3063435.jpg'),\n PosixPath('/home/fox/AICoding/Food Vision app/data/pizza_steak_sushi_20_percent/test/steak/2353677.jpg'),\n PosixPath('/home/fox/AICoding/Food Vision app/data/pizza_steak_sushi_20_percent/test/steak/2365038.jpg'),\n PosixPath('/home/fox/AICoding/Food Vision app/data/pizza_steak_sushi_20_percent/test/steak/3173402.jpg'),\n PosixPath('/home/fox/AICoding/Food Vision app/data/pizza_steak_sushi_20_percent/test/steak/2752603.jpg'),\n PosixPath('/home/fox/AICoding/Food Vision app/data/pizza_steak_sushi_20_percent/test/steak/746921.jpg'),\n PosixPath('/home/fox/AICoding/Food Vision app/data/pizza_steak_sushi_20_percent/test/steak/40947.jpg'),\n PosixPath('/home/fox/AICoding/Food Vision app/data/pizza_steak_sushi_20_percent/test/steak/2246332.jpg'),\n PosixPath('/home/fox/AICoding/Food Vision app/data/pizza_steak_sushi_20_percent/test/steak/1302563.jpg'),\n PosixPath('/home/fox/AICoding/Food Vision app/data/pizza_steak_sushi_20_percent/test/steak/3138001.jpg'),\n PosixPath('/home/fox/AICoding/Food Vision app/data/pizza_steak_sushi_20_percent/test/steak/3497585.jpg'),\n PosixPath('/home/fox/AICoding/Food Vision app/data/pizza_steak_sushi_20_percent/test/sushi/3834718.jpg'),\n PosixPath('/home/fox/AICoding/Food Vision app/data/pizza_steak_sushi_20_percent/test/sushi/705150.jpg'),\n PosixPath('/home/fox/AICoding/Food Vision app/data/pizza_steak_sushi_20_percent/test/sushi/167716.jpg'),\n PosixPath('/home/fox/AICoding/Food Vision app/data/pizza_steak_sushi_20_percent/test/sushi/911808.jpg'),\n PosixPath('/home/fox/AICoding/Food Vision app/data/pizza_steak_sushi_20_percent/test/sushi/2903621.jpg'),\n PosixPath('/home/fox/AICoding/Food Vision app/data/pizza_steak_sushi_20_percent/test/sushi/1203702.jpg'),\n PosixPath('/home/fox/AICoding/Food Vision app/data/pizza_steak_sushi_20_percent/test/sushi/2274102.jpg'),\n PosixPath('/home/fox/AICoding/Food Vision app/data/pizza_steak_sushi_20_percent/test/sushi/715227.jpg'),\n PosixPath('/home/fox/AICoding/Food Vision app/data/pizza_steak_sushi_20_percent/test/sushi/3177743.jpg'),\n PosixPath('/home/fox/AICoding/Food Vision app/data/pizza_steak_sushi_20_percent/test/sushi/1844723.jpg'),\n PosixPath('/home/fox/AICoding/Food Vision app/data/pizza_steak_sushi_20_percent/test/sushi/780283.jpg'),\n PosixPath('/home/fox/AICoding/Food Vision app/data/pizza_steak_sushi_20_percent/test/sushi/1944743.jpg'),\n PosixPath('/home/fox/AICoding/Food Vision app/data/pizza_steak_sushi_20_percent/test/sushi/2819945.jpg'),\n PosixPath('/home/fox/AICoding/Food Vision app/data/pizza_steak_sushi_20_percent/test/sushi/2394442.jpg'),\n PosixPath('/home/fox/AICoding/Food Vision app/data/pizza_steak_sushi_20_percent/test/sushi/720302.jpg'),\n PosixPath('/home/fox/AICoding/Food Vision app/data/pizza_steak_sushi_20_percent/test/sushi/2352914.jpg'),\n PosixPath('/home/fox/AICoding/Food Vision app/data/pizza_steak_sushi_20_percent/test/sushi/3401466.jpg'),\n PosixPath('/home/fox/AICoding/Food Vision app/data/pizza_steak_sushi_20_percent/test/sushi/511818.jpg'),\n PosixPath('/home/fox/AICoding/Food Vision app/data/pizza_steak_sushi_20_percent/test/sushi/3365273.jpg'),\n PosixPath('/home/fox/AICoding/Food Vision app/data/pizza_steak_sushi_20_percent/test/sushi/124279.jpg'),\n PosixPath('/home/fox/AICoding/Food Vision app/data/pizza_steak_sushi_20_percent/test/sushi/3227791.jpg'),\n PosixPath('/home/fox/AICoding/Food Vision app/data/pizza_steak_sushi_20_percent/test/sushi/1683426.jpg'),\n PosixPath('/home/fox/AICoding/Food Vision app/data/pizza_steak_sushi_20_percent/test/sushi/3494950.jpg'),\n PosixPath('/home/fox/AICoding/Food Vision app/data/pizza_steak_sushi_20_percent/test/sushi/1383396.jpg'),\n PosixPath('/home/fox/AICoding/Food Vision app/data/pizza_steak_sushi_20_percent/test/sushi/592799.jpg'),\n PosixPath('/home/fox/AICoding/Food Vision app/data/pizza_steak_sushi_20_percent/test/sushi/1245545.jpg'),\n PosixPath('/home/fox/AICoding/Food Vision app/data/pizza_steak_sushi_20_percent/test/sushi/57230.jpg'),\n PosixPath('/home/fox/AICoding/Food Vision app/data/pizza_steak_sushi_20_percent/test/sushi/1994748.jpg'),\n PosixPath('/home/fox/AICoding/Food Vision app/data/pizza_steak_sushi_20_percent/test/sushi/2743100.jpg'),\n PosixPath('/home/fox/AICoding/Food Vision app/data/pizza_steak_sushi_20_percent/test/sushi/128616.jpg'),\n PosixPath('/home/fox/AICoding/Food Vision app/data/pizza_steak_sushi_20_percent/test/sushi/1063878.jpg'),\n PosixPath('/home/fox/AICoding/Food Vision app/data/pizza_steak_sushi_20_percent/test/sushi/1600999.jpg'),\n PosixPath('/home/fox/AICoding/Food Vision app/data/pizza_steak_sushi_20_percent/test/sushi/593071.jpg'),\n PosixPath('/home/fox/AICoding/Food Vision app/data/pizza_steak_sushi_20_percent/test/sushi/2903125.jpg'),\n PosixPath('/home/fox/AICoding/Food Vision app/data/pizza_steak_sushi_20_percent/test/sushi/1346344.jpg'),\n PosixPath('/home/fox/AICoding/Food Vision app/data/pizza_steak_sushi_20_percent/test/sushi/46797.jpg'),\n PosixPath('/home/fox/AICoding/Food Vision app/data/pizza_steak_sushi_20_percent/test/sushi/301603.jpg'),\n PosixPath('/home/fox/AICoding/Food Vision app/data/pizza_steak_sushi_20_percent/test/sushi/389730.jpg'),\n PosixPath('/home/fox/AICoding/Food Vision app/data/pizza_steak_sushi_20_percent/test/sushi/2012780.jpg'),\n PosixPath('/home/fox/AICoding/Food Vision app/data/pizza_steak_sushi_20_percent/test/sushi/2948087.jpg'),\n PosixPath('/home/fox/AICoding/Food Vision app/data/pizza_steak_sushi_20_percent/test/sushi/2378406.jpg')]"
     },
     "execution_count": 50,
     "metadata": {},
     "output_type": "execute_result"
    }
   ],
   "source": [
    "# Get all test data paths\n",
    "print(f\"[INFO] Finding all filepaths ending with '.jpg' in directory: {test_dir}\")\n",
    "test_data_paths=list(Path(test_dir).glob(\"*/*.jpg\"))\n",
    "test_data_paths[:-5]"
   ],
   "metadata": {
    "collapsed": false
   }
  },
  {
   "cell_type": "markdown",
   "source": [
    "# 4.1 Creating a function to make predictions across the test dataset"
   ],
   "metadata": {
    "collapsed": false
   }
  },
  {
   "cell_type": "code",
   "execution_count": 51,
   "outputs": [],
   "source": [
    "import pathlib\n",
    "import torch\n",
    "\n",
    "from PIL import Image\n",
    "from timeit import default_timer as timer\n",
    "from typing import List, Dict\n",
    "\n",
    "def pred_and_store(paths: List[pathlib.Path],\n",
    "                   model: torch.nn.Module,\n",
    "                   transform: torchvision.transforms,\n",
    "                   class_names: List[str],\n",
    "                   device: str = \"cuda\" if torch.cuda.is_available() else \"cpu\") -> List[Dict]:\n",
    "    \"\"\"\n",
    "    function that takes a list of paths, a trained PyTorch model, a series of transforms (to prepare images), a list of target class names and a target device.\n",
    "    :param paths: A list of our test image paths.\n",
    "    :param model: A PyTorch model used to prediction.\n",
    "    :param transform: series of transforms (to prepare images).\n",
    "    :param class_names: list of target class names.\n",
    "    :param device: target device.\n",
    "    :return: list of dictionaries with sample, truth label, prediction, prediction probability and prediction time.\n",
    "    \"\"\"\n",
    "    # 1. Create an empty list to store prediction dictionaires\n",
    "    pred_list = []\n",
    "\n",
    "    # 2. loop through target paths\n",
    "    for path in paths:\n",
    "        # 3. Create empty dictionary to store prediction information for each sample\n",
    "        pred_dict={}\n",
    "\n",
    "        # 4. Get the sample path and ground truth class name\n",
    "        pred_dict[\"image_path\"]=path\n",
    "        class_name=path.parent.stem\n",
    "        pred_dict[\"class_name\"]=class_name\n",
    "\n",
    "        # 5. Start the prediction timer\n",
    "        start_time = timer()\n",
    "        # 6. open image path\n",
    "        img =Image.open(path)\n",
    "\n",
    "        # 7. Transform the image, add batch dimension and put image on target device\n",
    "        transformed_image=transform(img).unsqueeze(0).to(device)\n",
    "\n",
    "        # 8. Prepare model for inference by sending it to target device and turning on eval() mode\n",
    "        model.to(device)\n",
    "        model.eval()\n",
    "\n",
    "        # 9. Get prediction probability, predicition label and prediction class\n",
    "        with torch.inference_mode():\n",
    "            pred_logit = model(transformed_image)\n",
    "            pred_prob = torch.softmax(pred_logit,dim=1)\n",
    "            pred_label = torch.argmax(pred_prob ,dim=1)\n",
    "            pred_class = class_names[pred_label.cpu()]\n",
    "\n",
    "            # 10. Make sure things in the dictionary are on CPU (required for inspecting predictions later on)\n",
    "            pred_dict[\"pred_prob\"]=round(pred_prob.unsqueeze(0).max().cpu().item(),4)\n",
    "            pred_dict[\"pred_class\"] = pred_class\n",
    "            # 11. End the timer and calculate time per pred\n",
    "            end_time = timer()\n",
    "            pred_dict[\"time_for_pred\"] = round(end_time-start_time, 4)\n",
    "        # 12. Does the pred match the true label?\n",
    "        pred_dict[\"correct\"] = class_name == pred_class\n",
    "        # 13. Add the dictionary to the list of preds\n",
    "        pred_list.append(pred_dict)\n",
    "\n",
    "    return pred_list"
   ],
   "metadata": {
    "collapsed": false
   }
  },
  {
   "cell_type": "markdown",
   "source": [
    "# 4.2 Making and timing predictions with EffNetB1"
   ],
   "metadata": {
    "collapsed": false
   }
  },
  {
   "cell_type": "code",
   "execution_count": 52,
   "outputs": [],
   "source": [
    "# Make predictions across test dataset with EffNetB2\n",
    "effnetb1_test_pred_dicts = pred_and_store(paths=test_data_paths,\n",
    "                                          model=effnetb1,\n",
    "                                          transform=effnetb1_transforms,\n",
    "                                          class_names=class_names,\n",
    "                                          device=\"cpu\") # make predictions on CPU"
   ],
   "metadata": {
    "collapsed": false
   }
  },
  {
   "cell_type": "code",
   "execution_count": 53,
   "outputs": [
    {
     "data": {
      "text/plain": "[{'image_path': PosixPath('/home/fox/AICoding/Food Vision app/data/pizza_steak_sushi_20_percent/test/pizza/771336.jpg'),\n  'class_name': 'pizza',\n  'pred_prob': 0.8886,\n  'pred_class': 'pizza',\n  'time_for_pred': 0.1134,\n  'correct': True},\n {'image_path': PosixPath('/home/fox/AICoding/Food Vision app/data/pizza_steak_sushi_20_percent/test/pizza/2782998.jpg'),\n  'class_name': 'pizza',\n  'pred_prob': 0.9626,\n  'pred_class': 'pizza',\n  'time_for_pred': 0.0704,\n  'correct': True},\n {'image_path': PosixPath('/home/fox/AICoding/Food Vision app/data/pizza_steak_sushi_20_percent/test/pizza/441659.jpg'),\n  'class_name': 'pizza',\n  'pred_prob': 0.6561,\n  'pred_class': 'pizza',\n  'time_for_pred': 0.0719,\n  'correct': True}]"
     },
     "execution_count": 53,
     "metadata": {},
     "output_type": "execute_result"
    }
   ],
   "source": [
    "# Inspect the first 3 prediction dictionaries\n",
    "effnetb1_test_pred_dicts[:3]"
   ],
   "metadata": {
    "collapsed": false
   }
  },
  {
   "cell_type": "code",
   "execution_count": 54,
   "outputs": [
    {
     "data": {
      "text/plain": "                                          image_path class_name  pred_prob  \\\n0  /home/fox/AICoding/Food Vision app/data/pizza_...      pizza     0.8886   \n1  /home/fox/AICoding/Food Vision app/data/pizza_...      pizza     0.9626   \n2  /home/fox/AICoding/Food Vision app/data/pizza_...      pizza     0.6561   \n3  /home/fox/AICoding/Food Vision app/data/pizza_...      pizza     0.9586   \n4  /home/fox/AICoding/Food Vision app/data/pizza_...      pizza     0.9154   \n\n  pred_class  time_for_pred  correct  \n0      pizza         0.1134     True  \n1      pizza         0.0704     True  \n2      pizza         0.0719     True  \n3      pizza         0.0678     True  \n4      pizza         0.0738     True  ",
      "text/html": "<div>\n<style scoped>\n    .dataframe tbody tr th:only-of-type {\n        vertical-align: middle;\n    }\n\n    .dataframe tbody tr th {\n        vertical-align: top;\n    }\n\n    .dataframe thead th {\n        text-align: right;\n    }\n</style>\n<table border=\"1\" class=\"dataframe\">\n  <thead>\n    <tr style=\"text-align: right;\">\n      <th></th>\n      <th>image_path</th>\n      <th>class_name</th>\n      <th>pred_prob</th>\n      <th>pred_class</th>\n      <th>time_for_pred</th>\n      <th>correct</th>\n    </tr>\n  </thead>\n  <tbody>\n    <tr>\n      <th>0</th>\n      <td>/home/fox/AICoding/Food Vision app/data/pizza_...</td>\n      <td>pizza</td>\n      <td>0.8886</td>\n      <td>pizza</td>\n      <td>0.1134</td>\n      <td>True</td>\n    </tr>\n    <tr>\n      <th>1</th>\n      <td>/home/fox/AICoding/Food Vision app/data/pizza_...</td>\n      <td>pizza</td>\n      <td>0.9626</td>\n      <td>pizza</td>\n      <td>0.0704</td>\n      <td>True</td>\n    </tr>\n    <tr>\n      <th>2</th>\n      <td>/home/fox/AICoding/Food Vision app/data/pizza_...</td>\n      <td>pizza</td>\n      <td>0.6561</td>\n      <td>pizza</td>\n      <td>0.0719</td>\n      <td>True</td>\n    </tr>\n    <tr>\n      <th>3</th>\n      <td>/home/fox/AICoding/Food Vision app/data/pizza_...</td>\n      <td>pizza</td>\n      <td>0.9586</td>\n      <td>pizza</td>\n      <td>0.0678</td>\n      <td>True</td>\n    </tr>\n    <tr>\n      <th>4</th>\n      <td>/home/fox/AICoding/Food Vision app/data/pizza_...</td>\n      <td>pizza</td>\n      <td>0.9154</td>\n      <td>pizza</td>\n      <td>0.0738</td>\n      <td>True</td>\n    </tr>\n  </tbody>\n</table>\n</div>"
     },
     "execution_count": 54,
     "metadata": {},
     "output_type": "execute_result"
    }
   ],
   "source": [
    "# Turn the test_pred_dicts into a DataFrame\n",
    "import pandas as pd\n",
    "effnetb1_test_pred_df = pd.DataFrame(effnetb1_test_pred_dicts)\n",
    "effnetb1_test_pred_df.head()"
   ],
   "metadata": {
    "collapsed": false
   }
  },
  {
   "cell_type": "code",
   "execution_count": 55,
   "outputs": [
    {
     "data": {
      "text/plain": "True     144\nFalse      6\nName: correct, dtype: int64"
     },
     "execution_count": 55,
     "metadata": {},
     "output_type": "execute_result"
    }
   ],
   "source": [
    "# Check number of correct predictions\n",
    "effnetb1_test_pred_df.correct.value_counts()"
   ],
   "metadata": {
    "collapsed": false
   }
  },
  {
   "cell_type": "code",
   "execution_count": 56,
   "outputs": [
    {
     "name": "stdout",
     "output_type": "stream",
     "text": [
      "EffNetB1 average time per prediction: 0.0661 seconds\n"
     ]
    }
   ],
   "source": [
    "# Find the average time per prediction\n",
    "effnetb1_average_time_per_pred = round(effnetb1_test_pred_df.time_for_pred.mean(), 4)\n",
    "print(f\"EffNetB1 average time per prediction: {effnetb1_average_time_per_pred} seconds\")"
   ],
   "metadata": {
    "collapsed": false
   }
  },
  {
   "cell_type": "code",
   "execution_count": 57,
   "outputs": [
    {
     "data": {
      "text/plain": "{'test_loss': 0.22419896125793456,\n 'test_acc': 0.9625,\n 'number_of_parameters': 6517027,\n 'model_size': 25,\n 'time_per_pred_cpu': 0.0661}"
     },
     "execution_count": 57,
     "metadata": {},
     "output_type": "execute_result"
    }
   ],
   "source": [
    "# Add EffNetB2 average prediction time to stats dictionary\n",
    "effnetb1_stats[\"time_per_pred_cpu\"] = effnetb1_average_time_per_pred\n",
    "effnetb1_stats"
   ],
   "metadata": {
    "collapsed": false
   }
  },
  {
   "cell_type": "markdown",
   "source": [
    "# 4.3 Making and timing predictions with ViT"
   ],
   "metadata": {
    "collapsed": false
   }
  },
  {
   "cell_type": "code",
   "execution_count": 58,
   "outputs": [],
   "source": [
    "# Make list of prediction dictionaries with ViT feature extractor model on test images\n",
    "vit_test_pred_dicts = pred_and_store(paths=test_data_paths,\n",
    "                                     model=vit,\n",
    "                                     transform=vit_transforms,\n",
    "                                     class_names=class_names,\n",
    "                                     device=\"cpu\")"
   ],
   "metadata": {
    "collapsed": false
   }
  },
  {
   "cell_type": "code",
   "execution_count": 59,
   "outputs": [
    {
     "data": {
      "text/plain": "[{'image_path': PosixPath('/home/fox/AICoding/Food Vision app/data/pizza_steak_sushi_20_percent/test/pizza/771336.jpg'),\n  'class_name': 'pizza',\n  'pred_prob': 0.9987,\n  'pred_class': 'pizza',\n  'time_for_pred': 0.8826,\n  'correct': True},\n {'image_path': PosixPath('/home/fox/AICoding/Food Vision app/data/pizza_steak_sushi_20_percent/test/pizza/2782998.jpg'),\n  'class_name': 'pizza',\n  'pred_prob': 0.9994,\n  'pred_class': 'pizza',\n  'time_for_pred': 0.6869,\n  'correct': True},\n {'image_path': PosixPath('/home/fox/AICoding/Food Vision app/data/pizza_steak_sushi_20_percent/test/pizza/441659.jpg'),\n  'class_name': 'pizza',\n  'pred_prob': 0.9957,\n  'pred_class': 'pizza',\n  'time_for_pred': 0.6567,\n  'correct': True}]"
     },
     "execution_count": 59,
     "metadata": {},
     "output_type": "execute_result"
    }
   ],
   "source": [
    "# Inspect the first 3 prediction dictionaries\n",
    "vit_test_pred_dicts[:3]"
   ],
   "metadata": {
    "collapsed": false
   }
  },
  {
   "cell_type": "code",
   "execution_count": 60,
   "outputs": [
    {
     "data": {
      "text/plain": "                                          image_path class_name  pred_prob  \\\n0  /home/fox/AICoding/Food Vision app/data/pizza_...      pizza     0.9987   \n1  /home/fox/AICoding/Food Vision app/data/pizza_...      pizza     0.9994   \n2  /home/fox/AICoding/Food Vision app/data/pizza_...      pizza     0.9957   \n3  /home/fox/AICoding/Food Vision app/data/pizza_...      pizza     0.9991   \n4  /home/fox/AICoding/Food Vision app/data/pizza_...      pizza     0.9989   \n\n  pred_class  time_for_pred  correct  \n0      pizza         0.8826     True  \n1      pizza         0.6869     True  \n2      pizza         0.6567     True  \n3      pizza         0.6355     True  \n4      pizza         0.6489     True  ",
      "text/html": "<div>\n<style scoped>\n    .dataframe tbody tr th:only-of-type {\n        vertical-align: middle;\n    }\n\n    .dataframe tbody tr th {\n        vertical-align: top;\n    }\n\n    .dataframe thead th {\n        text-align: right;\n    }\n</style>\n<table border=\"1\" class=\"dataframe\">\n  <thead>\n    <tr style=\"text-align: right;\">\n      <th></th>\n      <th>image_path</th>\n      <th>class_name</th>\n      <th>pred_prob</th>\n      <th>pred_class</th>\n      <th>time_for_pred</th>\n      <th>correct</th>\n    </tr>\n  </thead>\n  <tbody>\n    <tr>\n      <th>0</th>\n      <td>/home/fox/AICoding/Food Vision app/data/pizza_...</td>\n      <td>pizza</td>\n      <td>0.9987</td>\n      <td>pizza</td>\n      <td>0.8826</td>\n      <td>True</td>\n    </tr>\n    <tr>\n      <th>1</th>\n      <td>/home/fox/AICoding/Food Vision app/data/pizza_...</td>\n      <td>pizza</td>\n      <td>0.9994</td>\n      <td>pizza</td>\n      <td>0.6869</td>\n      <td>True</td>\n    </tr>\n    <tr>\n      <th>2</th>\n      <td>/home/fox/AICoding/Food Vision app/data/pizza_...</td>\n      <td>pizza</td>\n      <td>0.9957</td>\n      <td>pizza</td>\n      <td>0.6567</td>\n      <td>True</td>\n    </tr>\n    <tr>\n      <th>3</th>\n      <td>/home/fox/AICoding/Food Vision app/data/pizza_...</td>\n      <td>pizza</td>\n      <td>0.9991</td>\n      <td>pizza</td>\n      <td>0.6355</td>\n      <td>True</td>\n    </tr>\n    <tr>\n      <th>4</th>\n      <td>/home/fox/AICoding/Food Vision app/data/pizza_...</td>\n      <td>pizza</td>\n      <td>0.9989</td>\n      <td>pizza</td>\n      <td>0.6489</td>\n      <td>True</td>\n    </tr>\n  </tbody>\n</table>\n</div>"
     },
     "execution_count": 60,
     "metadata": {},
     "output_type": "execute_result"
    }
   ],
   "source": [
    "# Turn vit_test_pred_dicts into a DataFrame\n",
    "import pandas as pd\n",
    "vit_test_pred_df = pd.DataFrame(vit_test_pred_dicts)\n",
    "vit_test_pred_df.head()"
   ],
   "metadata": {
    "collapsed": false
   }
  },
  {
   "cell_type": "code",
   "execution_count": 61,
   "outputs": [
    {
     "data": {
      "text/plain": "True     147\nFalse      3\nName: correct, dtype: int64"
     },
     "execution_count": 61,
     "metadata": {},
     "output_type": "execute_result"
    }
   ],
   "source": [
    "# Count the number of correct predictions\n",
    "vit_test_pred_df.correct.value_counts()"
   ],
   "metadata": {
    "collapsed": false
   }
  },
  {
   "cell_type": "code",
   "execution_count": 62,
   "outputs": [
    {
     "name": "stdout",
     "output_type": "stream",
     "text": [
      "ViT average time per prediction: 0.4048 seconds\n"
     ]
    }
   ],
   "source": [
    "# Calculate average time per prediction for ViT model\n",
    "vit_average_time_per_pred = round(vit_test_pred_df.time_for_pred.mean(), 4)\n",
    "print(f\"ViT average time per prediction: {vit_average_time_per_pred} seconds\")"
   ],
   "metadata": {
    "collapsed": false
   }
  },
  {
   "cell_type": "code",
   "execution_count": 63,
   "outputs": [
    {
     "data": {
      "text/plain": "{'test_loss': 0.05384576059877873,\n 'test_acc': 0.98125,\n 'number_of_parameters': 85800963,\n 'model_size': 327,\n 'time_per_pred_cpu': 0.4048}"
     },
     "execution_count": 63,
     "metadata": {},
     "output_type": "execute_result"
    }
   ],
   "source": [
    "# Add average prediction time for ViT model on CPU\n",
    "vit_stats[\"time_per_pred_cpu\"] = vit_average_time_per_pred\n",
    "vit_stats"
   ],
   "metadata": {
    "collapsed": false
   }
  },
  {
   "cell_type": "markdown",
   "source": [
    "# 5.0 Comparing model results, prediction times and size"
   ],
   "metadata": {
    "collapsed": false
   }
  },
  {
   "cell_type": "code",
   "execution_count": 64,
   "outputs": [
    {
     "data": {
      "text/plain": "   test_loss  test_acc  number_of_parameters  model_size  time_per_pred_cpu  \\\n0   0.224199     96.25               6517027          25             0.0661   \n1   0.053846     98.12              85800963         327             0.4048   \n\n      model  \n0  EffNetB1  \n1       ViT  ",
      "text/html": "<div>\n<style scoped>\n    .dataframe tbody tr th:only-of-type {\n        vertical-align: middle;\n    }\n\n    .dataframe tbody tr th {\n        vertical-align: top;\n    }\n\n    .dataframe thead th {\n        text-align: right;\n    }\n</style>\n<table border=\"1\" class=\"dataframe\">\n  <thead>\n    <tr style=\"text-align: right;\">\n      <th></th>\n      <th>test_loss</th>\n      <th>test_acc</th>\n      <th>number_of_parameters</th>\n      <th>model_size</th>\n      <th>time_per_pred_cpu</th>\n      <th>model</th>\n    </tr>\n  </thead>\n  <tbody>\n    <tr>\n      <th>0</th>\n      <td>0.224199</td>\n      <td>96.25</td>\n      <td>6517027</td>\n      <td>25</td>\n      <td>0.0661</td>\n      <td>EffNetB1</td>\n    </tr>\n    <tr>\n      <th>1</th>\n      <td>0.053846</td>\n      <td>98.12</td>\n      <td>85800963</td>\n      <td>327</td>\n      <td>0.4048</td>\n      <td>ViT</td>\n    </tr>\n  </tbody>\n</table>\n</div>"
     },
     "execution_count": 64,
     "metadata": {},
     "output_type": "execute_result"
    }
   ],
   "source": [
    "# Turn stat dictionaries into DataFrame\n",
    "df = pd.DataFrame([effnetb1_stats, vit_stats])\n",
    "\n",
    "# Add column for model names\n",
    "df[\"model\"] = [\"EffNetB1\", \"ViT\"]\n",
    "\n",
    "# Convert accuracy to percentages\n",
    "df[\"test_acc\"] = round(df[\"test_acc\"] * 100, 2)\n",
    "\n",
    "df"
   ],
   "metadata": {
    "collapsed": false
   }
  },
  {
   "cell_type": "code",
   "execution_count": 65,
   "outputs": [
    {
     "data": {
      "text/plain": "                        test_loss  test_acc  number_of_parameters  model_size  \\\nViT to EffNetB1 ratios    0.24017  1.019429              13.16566       13.08   \n\n                        time_per_pred_cpu  \nViT to EffNetB1 ratios           6.124054  ",
      "text/html": "<div>\n<style scoped>\n    .dataframe tbody tr th:only-of-type {\n        vertical-align: middle;\n    }\n\n    .dataframe tbody tr th {\n        vertical-align: top;\n    }\n\n    .dataframe thead th {\n        text-align: right;\n    }\n</style>\n<table border=\"1\" class=\"dataframe\">\n  <thead>\n    <tr style=\"text-align: right;\">\n      <th></th>\n      <th>test_loss</th>\n      <th>test_acc</th>\n      <th>number_of_parameters</th>\n      <th>model_size</th>\n      <th>time_per_pred_cpu</th>\n    </tr>\n  </thead>\n  <tbody>\n    <tr>\n      <th>ViT to EffNetB1 ratios</th>\n      <td>0.24017</td>\n      <td>1.019429</td>\n      <td>13.16566</td>\n      <td>13.08</td>\n      <td>6.124054</td>\n    </tr>\n  </tbody>\n</table>\n</div>"
     },
     "execution_count": 65,
     "metadata": {},
     "output_type": "execute_result"
    }
   ],
   "source": [
    "# Compare ViT to EffNetB2 across different characteristics\n",
    "pd.DataFrame(data=(df.set_index(\"model\").loc[\"ViT\"] / df.set_index(\"model\").loc[\"EffNetB1\"]), # divide ViT statistics by EffNetB2 statistics\n",
    "             columns=[\"ViT to EffNetB1 ratios\"]).T"
   ],
   "metadata": {
    "collapsed": false
   }
  },
  {
   "cell_type": "markdown",
   "source": [
    "# 5.1 Visualizing the speed vs. performance tradeoff"
   ],
   "metadata": {
    "collapsed": false
   }
  },
  {
   "cell_type": "code",
   "execution_count": 66,
   "outputs": [
    {
     "data": {
      "text/plain": "<Figure size 1200x800 with 1 Axes>",
      "image/png": "[encoded data removed]"
     },
     "metadata": {},
     "output_type": "display_data"
    }
   ],
   "source": [
    "# 1. Create a plot from model comparison DataFrame\n",
    "fig, ax = plt.subplots(figsize=(12, 8))\n",
    "scatter = ax.scatter(data=df,\n",
    "                     x=\"time_per_pred_cpu\",\n",
    "                     y=\"test_acc\",\n",
    "                     c=[\"blue\", \"orange\"], # what colours to use?\n",
    "                     s=\"model_size\") # size the dots by the model sizes\n",
    "\n",
    "# 2. Add titles, labels and customize fontsize for aesthetics\n",
    "ax.set_title(\"FoodVision Mini Inference Speed vs Performance\", fontsize=18)\n",
    "ax.set_xlabel(\"Prediction time per image (seconds)\", fontsize=14)\n",
    "ax.set_ylabel(\"Test accuracy (%)\", fontsize=14)\n",
    "ax.tick_params(axis='both', labelsize=12)\n",
    "ax.grid(True)\n",
    "\n",
    "# 3. Annotate with model names\n",
    "for index, row in df.iterrows():\n",
    "    ax.annotate(text=row[\"model\"],\n",
    "                xy=(row[\"time_per_pred_cpu\"]+0.0006, row[\"test_acc\"]+0.03),\n",
    "                size=12)\n",
    "\n",
    "# 4. Create a legend based on model sizes\n",
    "handles, labels = scatter.legend_elements(prop=\"sizes\", alpha=0.5)\n",
    "model_size_legend = ax.legend(handles,\n",
    "                              labels,\n",
    "                              loc=\"lower right\",\n",
    "                              title=\"Model size (MB)\",\n",
    "                              fontsize=12)\n",
    "\n",
    "# Save the figure\n",
    "plt.savefig(\"foodvision-mini-inference-speed-vs-performance.jpg\")\n",
    "\n",
    "# Show the figure\n",
    "plt.show()"
   ],
   "metadata": {
    "collapsed": false
   }
  },
  {
   "cell_type": "markdown",
   "source": [
    "# 6.0 Bringing FoodVision Mini to life by creating a Gradio demo"
   ],
   "metadata": {
    "collapsed": false
   }
  },
  {
   "cell_type": "markdown",
   "source": [
    "##### <font color=ff00> Gradio is the fastest way to demo your machine learning model with a friendly web interface so that anyone can use it, anywhere!"
   ],
   "metadata": {
    "collapsed": false
   }
  },
  {
   "cell_type": "code",
   "execution_count": 67,
   "outputs": [
    {
     "name": "stdout",
     "output_type": "stream",
     "text": [
      "Gradio version: 3.16.2\n"
     ]
    }
   ],
   "source": [
    "# import or install Gradio\n",
    "try:\n",
    "    import  gradio as gr\n",
    "except :\n",
    "    !pip -q install gradio\n",
    "    import gradio as gr\n",
    "print(f\"Gradio version: {gr.__version__}\")"
   ],
   "metadata": {
    "collapsed": false
   }
  },
  {
   "cell_type": "markdown",
   "source": [
    "# 6.1 Creating a function to map our inputs and outputs"
   ],
   "metadata": {
    "collapsed": false
   }
  },
  {
   "cell_type": "code",
   "execution_count": 68,
   "outputs": [
    {
     "data": {
      "text/plain": "device(type='cpu')"
     },
     "execution_count": 68,
     "metadata": {},
     "output_type": "execute_result"
    }
   ],
   "source": [
    "# Put EffNetB2 on CPU\n",
    "effnetb1.to(\"cpu\")\n",
    "\n",
    "# Check the device\n",
    "next(iter(effnetb1.parameters())).device"
   ],
   "metadata": {
    "collapsed": false
   }
  },
  {
   "cell_type": "code",
   "execution_count": 69,
   "outputs": [],
   "source": [
    "def predict(img)-> Tuple[Dict, float]:\n",
    "    \"\"\"\n",
    "    Transforms and performs a prediction on img.\n",
    "    :param img: target image .\n",
    "    :return: prediction and time taken.\n",
    "    \"\"\"\n",
    "    # Start the timer\n",
    "    start_time=timer()\n",
    "    # Transform the target image and add a batch dimension\n",
    "    img = effnetb1_transforms(img).unsqueeze(0)\n",
    "    # put model into evaluation mode and turn infarance mode\n",
    "    effnetb1.eval()\n",
    "    with torch.inference_mode():\n",
    "\n",
    "        # Pass the transformed image through the model and turn the prediction logits into prediction probabilities\n",
    "        pred_probs=torch.softmax(effnetb1(img),dim=1)\n",
    "    # Create a prediction label and prediction probability dictionary for each prediction class (this is the required format for Gradio's output parameter)\n",
    "\n",
    "    pred_labels_and_probs={class_names[i]:float(pred_probs[0][i]) for i in range(len(class_names))}\n",
    "    # Calculate the prediction time\n",
    "    pred_time = round(timer() - start_time, 5)\n",
    "\n",
    "    # Return the prediction dictionary and prediction time\n",
    "    return pred_labels_and_probs, pred_time"
   ],
   "metadata": {
    "collapsed": false
   }
  },
  {
   "cell_type": "code",
   "execution_count": 70,
   "outputs": [
    {
     "name": "stdout",
     "output_type": "stream",
     "text": [
      "[INFO] Predicting on image at path: /home/fox/AICoding/Food Vision app/data/pizza_steak_sushi_20_percent/test/pizza/998005.jpg\n",
      "\n",
      "Prediction label and probability dictionary: \n",
      "{'pizza': 0.7619388103485107, 'steak': 0.01779055967926979, 'sushi': 0.22027066349983215}\n",
      "Prediction time: 0.04409 seconds\n"
     ]
    }
   ],
   "source": [
    "import random\n",
    "from PIL import Image\n",
    "\n",
    "# Get a list of all test image filepaths\n",
    "test_data_paths = list(Path(test_dir).glob(\"*/*.jpg\"))\n",
    "\n",
    "# Randomly select a test image path\n",
    "random_image_path = random.sample(test_data_paths, k=1)[0]\n",
    "\n",
    "# Open the target image\n",
    "image = Image.open(random_image_path)\n",
    "print(f\"[INFO] Predicting on image at path: {random_image_path}\\n\")\n",
    "\n",
    "# Predict on the target image and print out the outputs\n",
    "pred_dict, pred_time = predict(img=image)\n",
    "print(f\"Prediction label and probability dictionary: \\n{pred_dict}\")\n",
    "print(f\"Prediction time: {pred_time} seconds\")"
   ],
   "metadata": {
    "collapsed": false
   }
  },
  {
   "cell_type": "markdown",
   "source": [
    "# 6.2 Building a Gradio interface"
   ],
   "metadata": {
    "collapsed": false
   }
  },
  {
   "cell_type": "code",
   "execution_count": 71,
   "outputs": [
    {
     "data": {
      "text/plain": "[['/home/fox/AICoding/Food Vision app/data/pizza_steak_sushi_20_percent/test/pizza/61656.jpg'],\n ['/home/fox/AICoding/Food Vision app/data/pizza_steak_sushi_20_percent/test/sushi/1944743.jpg'],\n ['/home/fox/AICoding/Food Vision app/data/pizza_steak_sushi_20_percent/test/sushi/46797.jpg']]"
     },
     "execution_count": 71,
     "metadata": {},
     "output_type": "execute_result"
    }
   ],
   "source": [
    "# Create a list of example inputs to our Gradio demo\n",
    "example_list = [[str(filepath)] for filepath in random.sample(test_data_paths, k=3)]\n",
    "example_list"
   ],
   "metadata": {
    "collapsed": false
   }
  },
  {
   "cell_type": "code",
   "execution_count": 72,
   "outputs": [
    {
     "name": "stdout",
     "output_type": "stream",
     "text": [
      "Running on local URL:  http://127.0.0.1:7860\n",
      "Running on public URL: https://f5e111c3-8adb-4cdc.gradio.live\n",
      "\n",
      "This share link expires in 72 hours. For free permanent hosting and GPU upgrades (NEW!), check out Spaces: https://huggingface.co/spaces\n"
     ]
    },
    {
     "data": {
      "text/plain": "<IPython.core.display.HTML object>",
      "text/html": "<div><iframe src=\"https://f5e111c3-8adb-4cdc.gradio.live\" width=\"100%\" height=\"500\" allow=\"autoplay; camera; microphone; clipboard-read; clipboard-write;\" frameborder=\"0\" allowfullscreen></iframe></div>"
     },
     "metadata": {},
     "output_type": "display_data"
    },
    {
     "data": {
      "text/plain": ""
     },
     "execution_count": 72,
     "metadata": {},
     "output_type": "execute_result"
    }
   ],
   "source": [
    "import gradio as gr\n",
    "\n",
    "# Create title, description and article strings\n",
    "title = \"FoodVision Mini 🍕🥩🍣\"\n",
    "description = \"An EfficientNetB1 feature extractor computer vision model to classify images of food as pizza, steak or sushi.\"\n",
    "article = \"I will add it soon wait..\"\n",
    "\n",
    "# Create the Gradio demo\n",
    "demo = gr.Interface(fn=predict, # mapping function from input to output\n",
    "                    inputs=gr.Image(type=\"pil\"), # what are the inputs?\n",
    "                    outputs=[gr.Label(num_top_classes=3, label=\"Predictions\"), # what are the outputs?\n",
    "                             gr.Number(label=\"Prediction time (s)\")], # our fn has two outputs, therefore we have two outputs\n",
    "                    examples=example_list,\n",
    "                    title=title,\n",
    "                    description=description,\n",
    "                    article=article)\n",
    "\n",
    "# Launch the demo!\n",
    "demo.launch(debug=False, # print errors locally?\n",
    "            share=True) # generate a publically shareable URL?"
   ],
   "metadata": {
    "collapsed": false
   }
  },
  {
   "cell_type": "markdown",
   "source": [
    "# 7.0 Creating a demos folder to store our FoodVision Mini app files"
   ],
   "metadata": {
    "collapsed": false
   }
  },
  {
   "cell_type": "code",
   "execution_count": 73,
   "outputs": [],
   "source": [
    "import shutil\n",
    "from  pathlib import  Path\n",
    "# create foodvision mini demo path\n",
    "foodvision_mini_demo_path = Path(\"demos/foodvision_mini\")\n",
    "\n",
    "# # Remove files that might already exist there and create new directory\n",
    "if foodvision_mini_demo_path.exists():\n",
    "    shutil.rmtree(foodvision_mini_demo_path)\n",
    "    foodvision_mini_demo_path.mkdir(parents=True, # make the parent folders?\n",
    "                                    exist_ok=True) # create it even if it already exists?\n",
    "else:\n",
    "    # If the file doesn't exist, create it anyway\n",
    "    foodvision_mini_demo_path.mkdir(parents=True,\n",
    "                                    exist_ok=True)\n",
    "\n",
    "# Check what's in the folder\n",
    "!ls demos/foodvision_mini/"
   ],
   "metadata": {
    "collapsed": false
   }
  },
  {
   "cell_type": "markdown",
   "source": [
    "# 7.1 Creating a folder of example images to use with our FoodVision Mini demo"
   ],
   "metadata": {
    "collapsed": false
   }
  },
  {
   "cell_type": "code",
   "execution_count": 74,
   "outputs": [
    {
     "name": "stdout",
     "output_type": "stream",
     "text": [
      "[INFO] Copying data/pizza_steak_sushi_20_percent/test/sushi/592799.jpg to demos/foodvision_mini/examples/592799.jpg\n",
      "[INFO] Copying data/pizza_steak_sushi_20_percent/test/steak/3622237.jpg to demos/foodvision_mini/examples/3622237.jpg\n",
      "[INFO] Copying data/pizza_steak_sushi_20_percent/test/pizza/2582289.jpg to demos/foodvision_mini/examples/2582289.jpg\n"
     ]
    }
   ],
   "source": [
    "import shutil\n",
    "from pathlib import Path\n",
    "\n",
    "# 1. Create an examples directory\n",
    "foodvision_mini_examples_path = foodvision_mini_demo_path / \"examples\"\n",
    "foodvision_mini_examples_path.mkdir(parents=True, exist_ok=True)\n",
    "# 2. Collect three random test dataset image paths\n",
    "foodvision_mini_examples = [Path('data/pizza_steak_sushi_20_percent/test/sushi/592799.jpg'),\n",
    "                            Path('data/pizza_steak_sushi_20_percent/test/steak/3622237.jpg'),\n",
    "                            Path('data/pizza_steak_sushi_20_percent/test/pizza/2582289.jpg')]\n",
    "# 3. Copy the three random images to the examples directory\n",
    "for example in foodvision_mini_examples:\n",
    "    destination = foodvision_mini_examples_path / example.name\n",
    "    print(f\"[INFO] Copying {example} to {destination}\")\n",
    "    shutil.copy2(src=example, dst=destination)"
   ],
   "metadata": {
    "collapsed": false
   }
  },
  {
   "cell_type": "code",
   "execution_count": 75,
   "outputs": [
    {
     "data": {
      "text/plain": "[['examples/3622237.jpg'], ['examples/2582289.jpg'], ['examples/592799.jpg']]"
     },
     "execution_count": 75,
     "metadata": {},
     "output_type": "execute_result"
    }
   ],
   "source": [
    "# Get example filepaths in a list of lists\n",
    "example_list = [[\"examples/\" + example] for example in os.listdir(foodvision_mini_examples_path)]\n",
    "example_list"
   ],
   "metadata": {
    "collapsed": false
   }
  },
  {
   "cell_type": "markdown",
   "source": [
    "# 7.2 Moving our trained EffNetB1 model to our FoodVision Mini demo directory"
   ],
   "metadata": {
    "collapsed": false
   }
  },
  {
   "cell_type": "code",
   "execution_count": 76,
   "outputs": [
    {
     "name": "stdout",
     "output_type": "stream",
     "text": [
      "[INFO] Attempting to move models/pretrained_effnetb1_feature_extractor_pizza_steak_sushi_20_percent.pth to demos/foodvision_mini/pretrained_effnetb1_feature_extractor_pizza_steak_sushi_20_percent.pth\n",
      "[INFO] Model move complete.\n"
     ]
    }
   ],
   "source": [
    "import shutil\n",
    "\n",
    "# Create a source path for our target model\n",
    "effnetb1_foodvision_mini_model_path = \"models/pretrained_effnetb1_feature_extractor_pizza_steak_sushi_20_percent.pth\"\n",
    "\n",
    "# Create a destination path for our target model\n",
    "effnetb1_foodvision_mini_model_destination = foodvision_mini_demo_path / effnetb1_foodvision_mini_model_path.split(\"/\")[1]\n",
    "# Try to move the file\n",
    "try:\n",
    "    print(f\"[INFO] Attempting to move {effnetb1_foodvision_mini_model_path} to {effnetb1_foodvision_mini_model_destination}\")\n",
    "\n",
    "    # Move the model\n",
    "    shutil.move(src=effnetb1_foodvision_mini_model_path, dst=effnetb1_foodvision_mini_model_destination)\n",
    "\n",
    "    print(f\"[INFO] Model move complete.\")\n",
    "\n",
    "# If the model has already been moved, check if it exists\n",
    "except:\n",
    "    print(f\"[INFO] No model found at {effnetb1_foodvision_mini_model_path}, perhaps its already been moved?\")\n",
    "    print(f\"[INFO] Model exists at {effnetb1_foodvision_mini_model_destination}: {effnetb1_foodvision_mini_model_destination.exists()}\")"
   ],
   "metadata": {
    "collapsed": false
   }
  },
  {
   "cell_type": "markdown",
   "source": [
    "# 7.3 Turning our EffNetB2 model into a Python script (model.py)"
   ],
   "metadata": {
    "collapsed": false
   }
  },
  {
   "cell_type": "code",
   "execution_count": 77,
   "outputs": [
    {
     "name": "stdout",
     "output_type": "stream",
     "text": [
      "Writing demos/foodvision_mini/model.py\n"
     ]
    }
   ],
   "source": [
    "%%writefile demos/foodvision_mini/model.py\n",
    "import torch\n",
    "import torchvision\n",
    "\n",
    "from torch import nn\n",
    "\n",
    "\n",
    "def create_effnetb1_model(num_classes:int=3,seed:int=42):\n",
    "    \"\"\"\n",
    "    Creates an EFFicientNetB1 feature extractor model and transforms.\n",
    "    :param num_classes: number of classes in classifier head.\n",
    "                        Defaults to 3.\n",
    "    :param seed: random seed value.\n",
    "                 Defaults to 42.\n",
    "    :return: feature extractor model.\n",
    "         transforms (torchvision.transforms): EffNetB1 image transforms.\n",
    "    \"\"\"\n",
    "    # 1. Setup pretrained EffNetB1 weights\n",
    "    weigts = torchvision.models.EfficientNet_B1_Weights.DEFAULT\n",
    "    # 2. Get EffNetB2 transforms\n",
    "    transforms= weigts.transforms()\n",
    "\n",
    "    # 3. Setup pretrained model\n",
    "    model=torchvision.models.efficientnet_b1(weights= \"DEFAULT\")\n",
    "\n",
    "    # 4. Freeze the base layers in the model (this will freeze all layers to begin with)\n",
    "    for param in model.parameters():\n",
    "        param.requires_grad=False\n",
    "\n",
    "    # 5. Change classifier head with random seed for reproducibility\n",
    "    torch.manual_seed(seed)\n",
    "    model.classifier=nn.Sequential(nn.Dropout(p=0.2,inplace=True),\n",
    "                                   nn.Linear(in_features=1280,out_features=num_classes))\n",
    "    return model,transforms"
   ],
   "metadata": {
    "collapsed": false
   }
  },
  {
   "cell_type": "markdown",
   "source": [
    "# 7.4 Turning our FoodVision Mini Gradio app into a Python script"
   ],
   "metadata": {
    "collapsed": false
   }
  },
  {
   "cell_type": "code",
   "execution_count": 78,
   "outputs": [
    {
     "name": "stdout",
     "output_type": "stream",
     "text": [
      "Writing demos/foodvision_mini/app.py\n"
     ]
    }
   ],
   "source": [
    "%%writefile demos/foodvision_mini/app.py\n",
    "### 1. Imports and class names setup ###\n",
    "import gradio as gr\n",
    "import os\n",
    "import torch\n",
    "\n",
    "from model import create_effnetb1_model\n",
    "from timeit import default_timer as timer\n",
    "from typing import Tuple, Dict\n",
    "\n",
    "# Setup class names\n",
    "class_names = [\"pizza\", \"steak\", \"sushi\"]\n",
    "\n",
    "### 2. Model and transforms preparation ###\n",
    "\n",
    "# Create EffNetB2 model\n",
    "effnetb1, effnetb1_transforms = create_effnetb1_model(num_classes=len(class_names) )\n",
    "\n",
    "# Load saved weights\n",
    "effnetb1.load_state_dict(torch.load(f=\"pretrained_effnetb1_feature_extractor_pizza_steak_sushi_20_percent.pth\",\n",
    "                                    map_location=torch.device(\"cpu\"),))\n",
    "### 3. Predict function ###\n",
    "# Create predict function\n",
    "def predict(img) -> Tuple[Dict, float]:\n",
    "    \"\"\"\n",
    "    Transforms and performs a prediction on img.\n",
    "    :param img: target image .\n",
    "    :return: prediction and time taken.\n",
    "    \"\"\"\n",
    "    # Start the timer\n",
    "    start_time = timer()\n",
    "\n",
    "    # Transform the target image and add a batch dimension\n",
    "    img = effnetb1_transforms(img).unsqueeze(0)\n",
    "\n",
    "    # Put model into evaluation mode and turn on inference mode\n",
    "    effnetb1.eval()\n",
    "    with torch.inference_mode():\n",
    "        # Pass the transformed image through the model and turn the prediction logits into prediction probabilities\n",
    "        pred_probs = torch.softmax(effnetb1(img), dim=1)\n",
    "\n",
    "    # Create a prediction label and prediction probability dictionary for each prediction class (this is the required format for Gradio's output parameter)\n",
    "    pred_labels_and_probs = {class_names[i]: float(pred_probs[0][i]) for i in range(len(class_names))}\n",
    "\n",
    "    # Calculate the prediction time\n",
    "    pred_time = round(timer() - start_time, 5)\n",
    "\n",
    "    # Return the prediction dictionary and prediction time\n",
    "    return pred_labels_and_probs, pred_time\n",
    "\n",
    "### 4. Gradio app ###\n",
    "\n",
    "# Create title, description and article strings\n",
    "title = \"FoodVision Mini 🍕🥩🍣\"\n",
    "description = \"An EfficientNetB1 feature extractor computer vision model to classify images of food as pizza, steak or sushi.\"\n",
    "article = \"I will add it soon wait..\"\n",
    "\n",
    "# Create examples list from \"examples/\" directory\n",
    "example_list = [[\"examples/\" + example] for example in os.listdir(\"examples\")]\n",
    "\n",
    "# Create the Gradio demo\n",
    "demo = gr.Interface(fn=predict, # mapping function from input to output\n",
    "                    inputs=gr.Image(type=\"pil\"), # what are the inputs?\n",
    "                    outputs=[gr.Label(num_top_classes=3, label=\"Predictions\"), # what are the outputs?\n",
    "                             gr.Number(label=\"Prediction time (s)\")], # our fn has two outputs, therefore we have two outputs\n",
    "                    # Create examples list from \"examples/\" directory\n",
    "                    examples=example_list,\n",
    "                    title=title,\n",
    "                    description=description,\n",
    "                    article=article)\n",
    "\n",
    "# Launch the demo!\n",
    "demo.launch()"
   ],
   "metadata": {
    "collapsed": false
   }
  },
  {
   "cell_type": "markdown",
   "source": [
    "# 7.5 Creating a requirements file for FoodVision Mini (requirements.txt)"
   ],
   "metadata": {
    "collapsed": false
   }
  },
  {
   "cell_type": "code",
   "execution_count": 79,
   "outputs": [
    {
     "name": "stdout",
     "output_type": "stream",
     "text": [
      "Torch Version 1.13.1+cu117\n",
      "Torchvision Version 0.14.1+cu117\n",
      "Gradio Version 3.16.2\n"
     ]
    }
   ],
   "source": [
    "import torch\n",
    "import torchvision\n",
    "import  gradio as gr\n",
    "print(f\"Torch Version {torch.__version__}\")\n",
    "print(f\"Torchvision Version {torchvision.__version__}\")\n",
    "print(f\"Gradio Version {gr.__version__}\")"
   ],
   "metadata": {
    "collapsed": false
   }
  },
  {
   "cell_type": "code",
   "execution_count": 80,
   "outputs": [
    {
     "name": "stdout",
     "output_type": "stream",
     "text": [
      "Writing demos/foodvision_mini/requirements.txt\n"
     ]
    }
   ],
   "source": [
    "%%writefile demos/foodvision_mini/requirements.txt\n",
    "torch==1.13.1\n",
    "torchvision==0.14.1\n",
    "gradio==3.16.2"
   ],
   "metadata": {
    "collapsed": false
   }
  },
  {
   "cell_type": "markdown",
   "source": [
    "# 8. Deploying our FoodVision Mini app to HuggingFace Spaces"
   ],
   "metadata": {
    "collapsed": false
   }
  },
  {
   "cell_type": "code",
   "execution_count": 81,
   "outputs": [
    {
     "name": "stdout",
     "output_type": "stream",
     "text": [
      "app.py\r\n",
      "examples\r\n",
      "model.py\r\n",
      "pretrained_effnetb1_feature_extractor_pizza_steak_sushi_20_percent.pth\r\n",
      "requirements.txt\r\n"
     ]
    }
   ],
   "source": [
    "!ls demos/foodvision_mini"
   ],
   "metadata": {
    "collapsed": false
   }
  },
  {
   "cell_type": "code",
   "execution_count": 7,
   "outputs": [
    {
     "data": {
      "text/plain": "<IPython.lib.display.IFrame at 0x7fa5b9e563b0>",
      "text/html": "\n        <iframe\n            width=\"900\"\n            height=\"750\"\n            src=\"https://hf.space/embed/Elbhnasy/Foodvision_mini/+\"\n            frameborder=\"0\"\n            allowfullscreen\n            \n        ></iframe>\n        "
     },
     "execution_count": 7,
     "metadata": {},
     "output_type": "execute_result"
    }
   ],
   "source": [
    "# IPython is a library to help make Python interactive\n",
    "from IPython.display import IFrame\n",
    "\n",
    "# Embed FoodVision Mini Gradio demo\n",
    "IFrame(src=\"https://hf.space/embed/Elbhnasy/Foodvision_mini/+\", width=900, height=750)"
   ],
   "metadata": {
    "collapsed": false
   }
  }
 ],
 "metadata": {
  "kernelspec": {
   "display_name": "Python 3 (ipykernel)",
   "language": "python",
   "name": "python3"
  },
  "language_info": {
   "codemirror_mode": {
    "name": "ipython",
    "version": 3
   },
   "file_extension": ".py",
   "mimetype": "text/x-python",
   "name": "python",
   "nbconvert_exporter": "python",
   "pygments_lexer": "ipython3",
   "version": "3.10.6"
  }
 },
 "nbformat": 4,
 "nbformat_minor": 1
}
